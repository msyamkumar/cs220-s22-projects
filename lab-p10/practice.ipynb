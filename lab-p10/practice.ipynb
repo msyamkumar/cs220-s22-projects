{
 "cells": [
  {
   "cell_type": "markdown",
   "id": "b59ab8a0",
   "metadata": {},
   "source": [
    "# Lab-P10: Files and Formats for Youtube Data\n",
    "\n",
    "In this lab, you'll get practice with files and formats, in preparation for p10. If you haven't already done so, make sure to download data.zip from Github and extract it to your lab10 folder."
   ]
  },
  {
   "cell_type": "markdown",
   "id": "e5dbfb7d",
   "metadata": {},
   "source": [
    "## File Vocabulary\n",
    "\n",
    "For p10, you'll need to be familiar with the following file-related terms to know what we're asking you to do.\n",
    "\n",
    "Before we get started with the assignment, let's talk about the distinction between these terms, which will become important as we go along.\n",
    "\n",
    "* **Directory:** a collection of files and directories.  \"Folder\" is a less-technical synonym you've doubtless heard frequently.\n",
    "\n",
    "* **File Name:** a name you can use for a file if you know what directory you're in.  For example, `movies.csv`, `test.py`, and `main.ipynb` are examples of file names.  Note that different files can have the same name, as long as those files are in different directories.\n",
    "\n",
    "* **Path:** a more-complete name that tells you the file name AND what directory it is in. For example, `p8/main.ipynb` and `p9/main.ipynb` are examples of path names on a Mac, referring to a file named `main.ipynb` in the p8 directory and a second file with the same name in the p9 directory, respectively. Windows uses back-slashes instead of forward slashes, so on a Windows laptop the paths would be `p8\\main.ipynb` and `p9\\main.ipynb`. There may be more levels in a path to represent more levels of directories. For example, `courses\\cs220\\p8\\test.py` refers to the test.py file in the p8 directory, which is in the cs220 directory, which is in the courses directory.\n",
    "\n",
    "* **Absolute vs Relative Path:** A relative path specifies a location on your computer based on the current working directory (in this case, the folder you ran the jupyter notebook in). On the other hand, an absolute path specifies the location based on the root folder on your computer. As an example of both, the relative path to the `channel_ids1.json` file in the `data` folder would be `data/channel_ids1.json`, but the absolute path would look something like `C:/Users/Tim/Documents/Lab10/data/channel_ids1.json`"
   ]
  },
  {
   "cell_type": "markdown",
   "id": "e9f2d308",
   "metadata": {},
   "source": [
    "You will also need to import the following libraries to complete the lab and project. We've gone ahead and filled them out for you:"
   ]
  },
  {
   "cell_type": "code",
   "execution_count": null,
   "id": "d6ed3f48",
   "metadata": {},
   "outputs": [],
   "source": [
    "# import statements\n",
    "\n",
    "# add code to import the os module\n",
    "# add code to import the csv module\n",
    "# add code to import the json module"
   ]
  },
  {
   "cell_type": "markdown",
   "id": "eb176425",
   "metadata": {},
   "source": [
    "## Segment 1: File and Directories\n",
    "\n",
    "### Task 1.1 Sort the output of os.listdir()\n",
    "`os.listdir` can be used to list the files of a directory. For example, `os.listdir(\".\")` would list the files in the current directory.\n",
    "\n",
    "Create a variable named `data_files` and save the names of the files in the \"data\" directory to it. Then, **sort** `data_files` based on the file's name.\n",
    "\n",
    "**Note:** You should *always* sort the output of `os.listdir()` because the output of `os.listdir()` is **OS dependent**. This means that if you run this code on a different OS, the paths might be sorted in a different order, which could lead to different results."
   ]
  },
  {
   "cell_type": "code",
   "execution_count": null,
   "id": "c0a5bd24",
   "metadata": {},
   "outputs": [],
   "source": [
    "# TODO: read the names of the files in the \"data\" directory\n",
    "# TODO: sort the files by name\n",
    "# TODO: display data_files.\n",
    "data_files = ??? "
   ]
  },
  {
   "cell_type": "markdown",
   "id": "fa71ea11",
   "metadata": {},
   "source": [
    "Your output should look like this...\n",
    "\n",
    "```python\n",
    "['.channel_ids0.json',\n",
    " '.hidden.txt',\n",
    " 'channel_ids1.json',\n",
    " 'channel_ids2.json',\n",
    " 'channel_ids3.json',\n",
    " 'channel_ids4.json',\n",
    " 'channel_ids5.json',\n",
    " 'comment_data1.csv',\n",
    " 'comment_data2.csv',\n",
    " 'comment_data3.csv',\n",
    " 'comment_data4.csv',\n",
    " 'comment_data5.csv',\n",
    " 'video_data.csv',\n",
    " 'video_data_shuffled.csv',\n",
    " 'video_ids.json']\n",
    "```"
   ]
  },
  {
   "cell_type": "markdown",
   "id": "446ee36d",
   "metadata": {},
   "source": [
    "### Task 1.2 Filter out `data_files` that start with \".\""
   ]
  },
  {
   "cell_type": "markdown",
   "id": "c75b3875",
   "metadata": {},
   "source": [
    "Now, filter `data_files` so that it does not contain files that start with a \".\"\n",
    "\n",
    "Your output should be the same as Task 1.1, but without `.hidden.txt` and `.channel_ids0.json`"
   ]
  },
  {
   "cell_type": "code",
   "execution_count": null,
   "id": "9cc05089",
   "metadata": {},
   "outputs": [],
   "source": [
    "# TODO: Filter out file names that begin with a \".\"\n"
   ]
  },
  {
   "cell_type": "markdown",
   "id": "d74fc0a5",
   "metadata": {},
   "source": [
    "### Task 1.3 Use os.path.join() to create a path"
   ]
  },
  {
   "cell_type": "markdown",
   "id": "6db7d7bc",
   "metadata": {},
   "source": [
    "Tasks 1.1 and 1.2 asked you to list files in the current directory, but sometimes we may be interested in files in other locations. In this assignment, whenever we say \"path\", we are implying \"relative path\". Also, \"path\" and \"pathname\" are used interchangeablely. We will not be the using absolute path.\n",
    "\n",
    "For this Task, create a variable named `specific_file_path` for the file `channel_ids1.json` located in the `data` folder. Use `os.paths.join` to join the directory name with the file name.\n",
    "\n",
    "**Note:** Always join paths using `os.path.join`. Never use the regular string `join` method, because the paths\n",
    "are **OS dependent**. If you hardcode `/` or `\\` in your paths, your code will not work on other computers."
   ]
  },
  {
   "cell_type": "code",
   "execution_count": null,
   "id": "c60235b4",
   "metadata": {},
   "outputs": [],
   "source": [
    "specific_file_path = ???"
   ]
  },
  {
   "cell_type": "markdown",
   "id": "c64b4aaa",
   "metadata": {},
   "source": [
    "Expected output for Windows users: `data\\channel_ids1.json` or `data\\\\channel_ids1.json`\n",
    "\n",
    "Expected output for Linux/Mac users: `data/channel_ids1.json`"
   ]
  },
  {
   "cell_type": "markdown",
   "id": "0b564f6c",
   "metadata": {},
   "source": [
    "### Task 1.4 Create a function that list files at a path location\n",
    "\n",
    "Using Tasks 1.1 and 1.2, write a function that returns a list of the files at a path location, ignoring files that start with a \".\". Files should be sorted alphabetically."
   ]
  },
  {
   "cell_type": "code",
   "execution_count": null,
   "id": "a507f81d",
   "metadata": {},
   "outputs": [],
   "source": [
    "def list_files_in(pathname):\n",
    "    \"\"\"\n",
    "    Given a (relative) path called pathname, return a list of files at this path. \n",
    "    Make sure to exclude files that start with a \".\" from your list, \n",
    "    and that your list of files is sorted alphabetically before you return it.\n",
    "    \"\"\"\n",
    "    pass\n",
    "\n",
    "list_files_in(\"data\")"
   ]
  },
  {
   "cell_type": "markdown",
   "id": "90cd56a9",
   "metadata": {},
   "source": [
    "Your output should be the following...\n",
    "\n",
    "```python\n",
    "['channel_ids1.json',\n",
    " 'channel_ids2.json',\n",
    " 'channel_ids3.json',\n",
    " 'channel_ids4.json',\n",
    " 'channel_ids5.json',\n",
    " 'comment_data1.csv',\n",
    " 'comment_data2.csv',\n",
    " 'comment_data3.csv',\n",
    " 'comment_data4.csv',\n",
    " 'comment_data5.csv',\n",
    " 'video_data.csv',\n",
    " 'video_data_shuffled.csv',\n",
    " 'video_ids.json']\n",
    "```"
   ]
  },
  {
   "cell_type": "markdown",
   "id": "34e809bd",
   "metadata": {},
   "source": [
    "Furthermore, if any of the following assertions fail, check your code!"
   ]
  },
  {
   "cell_type": "code",
   "execution_count": null,
   "id": "872f7ef5",
   "metadata": {},
   "outputs": [],
   "source": [
    "assert '.hidden.txt' not in list_files_in('data')\n",
    "assert list_files_in(\"data\")[0] == 'channel_ids1.json'\n",
    "assert list_files_in(\"data\")[1] == 'channel_ids2.json'\n",
    "assert list_files_in(\"data\")[-1] == 'video_ids.json'"
   ]
  },
  {
   "cell_type": "markdown",
   "id": "e8758132",
   "metadata": {},
   "source": [
    "### Task 1.5 Create a function that outputs relative paths to files\n",
    "\n",
    "`list_files_in` takes in a path and returns a *list of file names*, but you can't open those files unless you join them with their relative path. Create a function called `list_paths_in` that creates a *list of pathnames* to those files.\n",
    "\n",
    "Be sure to use `os.path.join` like in Task 1.3."
   ]
  },
  {
   "cell_type": "code",
   "execution_count": null,
   "id": "e7ed43ab",
   "metadata": {},
   "outputs": [],
   "source": [
    "def list_paths_in(pathname):\n",
    "    \"\"\"\n",
    "    Gets a list of files in pathname directory and generates relative paths to all the files,\n",
    "    using os.path.join function.\n",
    "    Returns a list of relative paths to each file inside pathname directory.\n",
    "    \"\"\"\n",
    "    pass\n",
    "\n",
    "list_paths_in(\"data\")"
   ]
  },
  {
   "cell_type": "markdown",
   "id": "9d769d9e",
   "metadata": {},
   "source": [
    "Your output should be the following (with `\\\\` being whatever file seperator your OS uses)...\n",
    "\n",
    "```python\n",
    "['data\\\\channel_ids1.json',\n",
    " 'data\\\\channel_ids2.json',\n",
    " 'data\\\\channel_ids3.json',\n",
    " 'data\\\\channel_ids4.json',\n",
    " 'data\\\\channel_ids5.json',\n",
    " 'data\\\\comment_data1.csv',\n",
    " 'data\\\\comment_data2.csv',\n",
    " 'data\\\\comment_data3.csv',\n",
    " 'data\\\\comment_data4.csv',\n",
    " 'data\\\\comment_data5.csv',\n",
    " 'data\\\\video_data.csv',\n",
    " 'data\\\\video_data_shuffled.csv',\n",
    " 'data\\\\video_ids.json']\n",
    "```"
   ]
  },
  {
   "cell_type": "markdown",
   "id": "13d0c0af",
   "metadata": {},
   "source": [
    "## Segment 2: JSON file format\n",
    "\n",
    "### Task 2.1 Load JSON Data\n",
    "Given the function `read_json` from lecture, load the data in `channel_ids1.json` into a variable called `json_data`. Remember, `channel_ids1.json` is located in the `data` directory.\n",
    "\n",
    "Use [Lecture 19 (JSON)](https://www.msyamkumar.com/cs220/s22/materials/lecture_ppts/lec_19_S22.pdf) as reference."
   ]
  },
  {
   "cell_type": "code",
   "execution_count": null,
   "id": "e7f618d2",
   "metadata": {},
   "outputs": [],
   "source": [
    "def read_json(path):\n",
    "    with open(path, encoding=\"utf-8\") as f:\n",
    "        return json.load(f) # dict, list, etc\n",
    "\n",
    "# TODO: invoke read_json - make sure to use os.path.join to generate the releative path to \"channel_ids1.json\"\n",
    "json_data = ???\n",
    "json_data"
   ]
  },
  {
   "cell_type": "markdown",
   "id": "db1409ca",
   "metadata": {},
   "source": [
    "If any of the following assertions fail, check your code!"
   ]
  },
  {
   "cell_type": "code",
   "execution_count": null,
   "id": "31f36295",
   "metadata": {},
   "outputs": [],
   "source": [
    "assert json_data['UCqZQlzSHbVJrwrn5XvzrzcA'] == 'NBC Sports'\n",
    "assert json_data['UCh8gHdtzO2tXd593_bjErWg'] == 'Doobydobap'\n",
    "assert json_data['UCRijo3ddMTht_IHyNSNXpNQ'] == 'Dude Perfect'\n",
    "assert json_data['UC6nSFpj9HTCZ5t-N3Rm3-HA'] == 'Vsauce'"
   ]
  },
  {
   "cell_type": "markdown",
   "id": "9c0526a1",
   "metadata": {},
   "source": [
    "### Task 2.2 Handle JSONDecodeError\n",
    "\n",
    "Define the function `get_mapping` that uses the `read_json` function above.\n",
    "\n",
    "The `read_json` function can throw an error! If the JSON file is formatted incorrectly (missing a closing brace, missing a value for a key, or some other syntax error), a JSONDecodeError will occur. If you encounter a malformed JSON file like this, you should return an empty dictionary.\n",
    "\n",
    "Use a try/except to catch *only* a `json.JSONDecodeError`. See [Lecture 25 (Error Handling)](https://www.msyamkumar.com/cs220/s22/materials/lecture_ppts/lec_25_S22.pdf) for reference."
   ]
  },
  {
   "cell_type": "code",
   "execution_count": null,
   "id": "52bbc97a",
   "metadata": {},
   "outputs": [],
   "source": [
    "# TODO: Define this function; make sure it handles malformed JSON files! \n",
    "def get_mapping(pathname):\n",
    "    \"\"\"\n",
    "    Given a path called pathname, load the json data at the path and return the loaded json data.\n",
    "    If a json.JSONDecodeError is thrown, an empty dictionary is returned.\n",
    "    \"\"\"\n",
    "    pass\n",
    "\n",
    "# Note: if you try to use JSONDecodeError, that won't work because it is part of the json module\n",
    "# If you want to use it just as JSONDecodeError, you must use the from style of import to import it\n",
    "# from the json module"
   ]
  },
  {
   "cell_type": "code",
   "execution_count": null,
   "id": "c90ae240",
   "metadata": {},
   "outputs": [],
   "source": [
    "# Make sure your code passes the assertions below.\n",
    "mapping = get_mapping(os.path.join(\"data\", \"channel_ids2.json\"))\n",
    "assert mapping['UCRlEFn0L2G_DktbyvN0AZ5A'] == 'WadZee'\n",
    "assert mapping['UCDVYQ4Zhbm3S2dlz7P1GBDg'] == 'NFL'\n",
    "assert mapping['UC06E4Y_-ybJgBUMtXx8uNNw'] == 'TheBackyardScientist'\n",
    "assert get_mapping(os.path.join(\"data\", \"channel_ids5.json\")) == {}"
   ]
  },
  {
   "cell_type": "markdown",
   "id": "f77cecb8",
   "metadata": {},
   "source": [
    "This test ensures that you do not catch anything besides a `JSONDecodeError`. It's a bit fishy, so if you get `TypeError: 'NoneType' object is not callable`, try Restart and Run all. If that doesn't work, ask a TA to help."
   ]
  },
  {
   "cell_type": "code",
   "execution_count": null,
   "id": "d723fee9",
   "metadata": {},
   "outputs": [],
   "source": [
    "# You don't have to understand this code. \n",
    "# Just know that, if your get_mapping is correct, this code does nothing.\n",
    "\n",
    "old_load = json.load\n",
    "try:\n",
    "    json.load = None\n",
    "    get_mapping(os.path.join(\"data\", \"channel_ids1.json\"))\n",
    "    assert False   \n",
    "except AssertionError:\n",
    "    print(\"Failed: You caught an exception besides JSONDecodeError\")\n",
    "except:\n",
    "    pass\n",
    "json.load = old_load"
   ]
  },
  {
   "cell_type": "markdown",
   "id": "ed7c1708",
   "metadata": {},
   "source": [
    "## Segment 3: Video Data"
   ]
  },
  {
   "cell_type": "markdown",
   "id": "5468f934",
   "metadata": {},
   "source": [
    "### Task 3.1: Familiarize yourself with the video data files files\n",
    "\n",
    "Examine the contents of `video_data.csv`. For example, the first two rows look like this:\n",
    "\n",
    "```python\n",
    "[['video_id',\n",
    "  'channel_id',\n",
    "  'published_at',\n",
    "  'duration',\n",
    "  'category',\n",
    "  'tags',\n",
    "  'views',\n",
    "  'likes',\n",
    "  'dislikes'],\n",
    " ['ex98DxvUiAc',\n",
    "  'UC94lW_-Hr_uA7RcJ3D-WPOg',\n",
    "  '2021-10-01 01:54:20',\n",
    "  '00:15:12',\n",
    "  'Comedy',\n",
    "  'danny duncan|danny duncan 69|danny duncan vlog|danny duncan pranks|danny duncan vlogs|vlogs|pranks|danny duncan tour|danny duncan florida|danny duncan merch',\n",
    "  '3250076',\n",
    "  '146039',\n",
    "  '1800']]\n",
    "```   \n",
    "\n",
    "Also examine `video_ids.json`, which contains a mapping of the video IDs to the title of the video. It looks like this:  \n",
    "\n",
    "```python\n",
    "{'ex98DxvUiAc': 'Guess Who’s Back!',\n",
    " '8y9QnS_tMkY': 'The Ultimate \"Kung Fu Panda\" Recap Cartoon',\n",
    " 'IwTkLFYYBKc': 'Old Master, New Tricks! (Clash of Clans Season Challenges)',\n",
    " ...}\n",
    "```\n",
    "\n",
    "Our goal is to combine the data from these two files.\n",
    "\n",
    "In order to do this, we must be able to load data from CSV and JSON files.\n",
    "\n",
    "**Note:** When reading in a CSV, do not use `csv.DictReader` to read the csv files; use `process_csv`. Run the cell below, it will be used in the following tasks."
   ]
  },
  {
   "cell_type": "code",
   "execution_count": null,
   "id": "5a59d9f6",
   "metadata": {},
   "outputs": [],
   "source": [
    "# source:  Automate the Boring Stuff with Python Ch 12\n",
    "def process_csv(filename):\n",
    "    exampleFile = open(filename, encoding=\"utf-8\")  \n",
    "    exampleReader = csv.reader(exampleFile) \n",
    "    exampleData = list(exampleReader)        \n",
    "    exampleFile.close()  \n",
    "    return exampleData\n",
    "\n",
    "\n",
    "# TODO: invoke process_csv - make sure to use os.path.join \n",
    "#       to generate the relative path to \"video_data.csv\"\n",
    "# TODO: split the header and the data into the those variables\n",
    "# TODO: Use print function calls to display header and data's first list entry\n",
    "\n"
   ]
  },
  {
   "cell_type": "code",
   "execution_count": null,
   "id": "b2042206",
   "metadata": {},
   "outputs": [],
   "source": [
    "# TODO: invoke read_json - make sure to use os.path.join \n",
    "#       to generate the releative path to \"video_ids.json\"\n",
    "# TODO: display the dictionary returned by read_json"
   ]
  },
  {
   "cell_type": "markdown",
   "id": "ebc9cc56",
   "metadata": {},
   "source": [
    "### Task 3.2: Lookups using videos dictionary\n",
    "\n",
    "Recall that each video has a `video_id` that can be combined with the mapping from `video_ids.json` to obtain the `title` of each video. For example the video with ID `ex98DxvUiAc` has the title `'Guess Who’s Back!'`.\n",
    "\n",
    "Below, given the following `sample_video_id`, store its corresponding title to `sample_video_title`, by using dict lookup operation."
   ]
  },
  {
   "cell_type": "code",
   "execution_count": null,
   "id": "8f1d1132",
   "metadata": {},
   "outputs": [],
   "source": [
    "sample_video_id = \"4P8fKd0IVOs\"\n",
    "???\n",
    "\n",
    "assert sample_video_title == 'How Does The James Webb Space Telescope Work? - Smarter Every Day 262'"
   ]
  },
  {
   "cell_type": "markdown",
   "id": "638960fe",
   "metadata": {},
   "source": [
    "Now, we want to generalize this to all videos. You will be writing a function called `get_videos`, which will be very similar to the `get_movies` function from P8 and P9. Each video will be represented as a dictionary of its title and all its attributes in the columns above. To keep things simple, let's start by assuming each video only has a `title` like this:\n",
    "\n",
    "```python\n",
    "{'title': 'The Ultimate \"Kung Fu Panda\" Recap Cartoon'}\n",
    "```\n",
    "\n",
    "We want to do this for each video, mapping their `video_id` to a dictionary of the video, so our end goal is something like this...\n",
    "\n",
    "```python\n",
    "{\n",
    " 'ex98DxvUiAc': {'title': 'Guess Who’s Back!'},\n",
    " '8y9QnS_tMkY': {'title': 'The Ultimate \"Kung Fu Panda\" Recap Cartoon'},\n",
    " 'IwTkLFYYBKc': {'title': 'Old Master, New Tricks! (Clash of Clans Season Challenges)'},\n",
    " '2_9LOiY9Lpc': {'title': 'Making Spiral Light'},\n",
    " ...\n",
    "}\n",
    "```\n",
    "\n",
    "Complete the function `get_videos` below.\n",
    "\n",
    "**Note:** There exists some videos in `video_data.csv` that don't exist in `video_ids.json`. If you get a KeyError, skip that video. A try/except will be useful here."
   ]
  },
  {
   "cell_type": "code",
   "execution_count": null,
   "id": "f8c2d528",
   "metadata": {},
   "outputs": [],
   "source": [
    "def get_videos(data_file, video_mapping_file):\n",
    "    \"\"\"\n",
    "    Given data_file (csv file) and video_mapping_file (json) file, generates a video\n",
    "    dictionary, mapping video ID to a dictionary containing title, and other details of the video.\n",
    "    Handles missing entry in video_ids.json by using try / except blocks to handle KeyError.\n",
    "    \"\"\"\n",
    "    data = process_csv(data_file)\n",
    "    header = data[0]\n",
    "    all_videos = data[1:]\n",
    "    video_mapping = get_mapping(video_mapping_file)\n",
    "    videos_dict = dict()\n",
    "    for video in all_videos: # You may find it helpful to do all_videos[:5] to only look at the first 5 videos.\n",
    "        pass \n",
    "        # TODO: for start, use print function call to display each video row\n",
    "        # TODO: Construct the dictionary.\n",
    "    return videos_dict\n",
    "\n",
    "videos = get_videos(os.path.join('data','video_data.csv'), os.path.join('data','video_ids.json'))"
   ]
  },
  {
   "cell_type": "code",
   "execution_count": null,
   "id": "953aeac2",
   "metadata": {},
   "outputs": [],
   "source": [
    "# Make sure you pass the following tests:\n",
    "assert videos['fkMW60W180E']['title'] == 'SWAWS | Totally Accurate Battlegrounds'\n",
    "\n",
    "# This is how we test whether you hardcoded the column indices\n",
    "shuffled_videos = get_videos(os.path.join(\"data\", 'video_data_shuffled.csv'), \\\n",
    "                             os.path.join(\"data\", 'video_ids.json'))\n",
    "assert videos['fkMW60W180E']['title'] == shuffled_videos['fkMW60W180E']['title'] "
   ]
  },
  {
   "cell_type": "markdown",
   "id": "fca901a0",
   "metadata": {},
   "source": [
    "**Warning:** `video_data_shuffled.csv` is *not* part of the dataset for the project. When you start on p10, either download the data.zip for p10 from the github repo, or delete `video_data_shuffled.csv`."
   ]
  },
  {
   "cell_type": "markdown",
   "id": "e5c8a3ba",
   "metadata": {},
   "source": [
    "### Task 3.3: More basic data\n",
    "\n",
    "Great. We now have the structure of videos ready. Go back and modify `get_videos` to add the following data to each video:\n",
    "- published_at\n",
    "- duration\n",
    "- category\n",
    "- views (should be an int)\n"
   ]
  },
  {
   "cell_type": "code",
   "execution_count": null,
   "id": "44924e52",
   "metadata": {},
   "outputs": [],
   "source": [
    "assert videos['fkMW60W180E']['published_at'] == \"2021-10-12 19:01:41\"\n",
    "assert videos['fkMW60W180E']['duration'] == \"00:18:46\"\n",
    "assert videos['fkMW60W180E']['category'] == \"Gaming\"\n",
    "assert videos['fkMW60W180E']['views'] == 3172185\n",
    "\n",
    "# this is how we test whether you hardcoded the column indices\n",
    "shuffled_videos = get_videos(os.path.join(\"data\", 'video_data_shuffled.csv'), \\\n",
    "                             os.path.join(\"data\", 'video_ids.json'))\n",
    "assert shuffled_videos['fkMW60W180E']['published_at'] == \"2021-10-12 19:01:41\"\n",
    "assert shuffled_videos['fkMW60W180E']['category'] == \"Gaming\"\n",
    "assert shuffled_videos['fkMW60W180E']['views'] == 3172185\n"
   ]
  },
  {
   "cell_type": "markdown",
   "id": "0eed7a37",
   "metadata": {},
   "source": [
    "### Task 3.4: Add tags to your video dictionaries\n",
    "\n",
    "Now, add the `tags` key to each video dictionary.\n",
    "\n",
    "*Note:* The tags are stored as a string of the form\n",
    "\n",
    "```python\n",
    "'Science|quantum physics|the action lab'\n",
    "```\n",
    "\n",
    "and you need store them as a list that looks like:\n",
    "\n",
    "```python\n",
    "['Science', 'quantum physics', 'the action lab']\n",
    "```\n",
    "\n",
    "What method might be useful for processing these tags?"
   ]
  },
  {
   "cell_type": "code",
   "execution_count": null,
   "id": "e490295b",
   "metadata": {},
   "outputs": [],
   "source": [
    "# TODO: modify your get_videos function so that each video dictionary also has a tags key\n",
    "# Make sure it passes the following test:\n",
    "\n",
    "assert videos['fkMW60W180E']['tags'] == ['tot',\n",
    "  'totally accurate battlegrounds',\n",
    "  'tabg',\n",
    "  'totally accurate battle simulator',\n",
    "  'totally accurate battlegrounds gameplay',\n",
    "  'totally accurate battle grounds',\n",
    "  'tabg gameplay',\n",
    "  'tabg game',\n",
    "  'tabs',\n",
    "  'totally accurate',\n",
    "  'totally accurate battle royale',\n",
    "  'battle royale',\n",
    "  'tabg funny',\n",
    "  'fortnite',\n",
    "  'battlegrounds',\n",
    "  'tabs battle royale',\n",
    "  'new battle royale',\n",
    "  'pubg',\n",
    "  'totally accurate battlegrounds funny',\n",
    "  'swaws',\n",
    "  'swaws meme',\n",
    "  'swaws russian badger',\n",
    "  'tabg update',\n",
    "  'tabg win',\n",
    "  'tabg br',\n",
    "  'free to play pc games',\n",
    "  'free to play']"
   ]
  },
  {
   "cell_type": "markdown",
   "id": "771adc8d",
   "metadata": {},
   "source": [
    "### Task 3.5: Add likes, dislikes and ratings_enabled\n",
    "\n",
    "Some videos have their ratings disabled. We will assume that ratings have been disabled if `likes` or `dislikes` have a value of `''` (the empty string). Each video will have `likes`, `dislikes` and `ratings_enabled` as follows:\n",
    "\n",
    "- `ratings_enabled` is True if neither `likes` nor `dislikes` is `''`. Otherwise, it is False.\n",
    "- The value stored for `likes` and `dislikes` should be `None` if `ratings_enabled` is False.\n",
    "- If `ratings_enabled` is True, then `likes` and `dislikes` should just be stored as the ints we read from the csv.\n",
    "\n",
    "Go back and modify `get_videos` accordingly."
   ]
  },
  {
   "cell_type": "code",
   "execution_count": null,
   "id": "0f79d8c4",
   "metadata": {},
   "outputs": [],
   "source": [
    "assert videos['fkMW60W180E']['likes'] == 210951\n",
    "assert videos['fkMW60W180E']['dislikes'] == 1824\n",
    "assert videos['fkMW60W180E']['ratings_enabled'] == True\n",
    "\n",
    "assert videos['UeFnH1DKYIE']['likes'] == None\n",
    "assert videos['UeFnH1DKYIE']['dislikes'] == None\n",
    "assert videos['UeFnH1DKYIE']['ratings_enabled'] == False"
   ]
  },
  {
   "cell_type": "markdown",
   "id": "b1784c03",
   "metadata": {},
   "source": [
    "There's a few more modifications we need to make to `get_videos`, such as reading in the channel name, but we'll do that in the project. That's it for the lab! Feel free to start working on p10. "
   ]
  }
 ],
 "metadata": {
  "kernelspec": {
   "display_name": "Python 3 (ipykernel)",
   "language": "python",
   "name": "python3"
  },
  "language_info": {
   "codemirror_mode": {
    "name": "ipython",
    "version": 3
   },
   "file_extension": ".py",
   "mimetype": "text/x-python",
   "name": "python",
   "nbconvert_exporter": "python",
   "pygments_lexer": "ipython3",
   "version": "3.9.7"
  }
 },
 "nbformat": 4,
 "nbformat_minor": 5
}
