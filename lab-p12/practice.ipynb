{
 "cells": [
  {
   "cell_type": "markdown",
   "id": "a1e8226b",
   "metadata": {},
   "source": [
    "# Lab-P12:  Web Requests, Caching, DataFrames and Scraping\n",
    "Version: 4/22, 1:00AM"
   ]
  },
  {
   "cell_type": "markdown",
   "id": "5a21135b",
   "metadata": {},
   "source": [
    "## Segment 1: Web Requests and File Downloads"
   ]
  },
  {
   "cell_type": "markdown",
   "id": "8316db82",
   "metadata": {},
   "source": [
    "Import the `time`, `requests`, `os`, `json`, `pandas` and `BeautifulSoup` modules. \n",
    "\n",
    "For `pandas`, import it as `pd` - as was done in lecture. You can refer to the [lecture material](https://github.com/tylerharter/caraza-harter-com/blob/master/tyler/meena/cs220/s22/materials/readings/pandas-intro.ipynb) for help."
   ]
  },
  {
   "cell_type": "code",
   "execution_count": null,
   "id": "9bb3595f",
   "metadata": {},
   "outputs": [],
   "source": [
    "#Write import statements here"
   ]
  },
  {
   "cell_type": "markdown",
   "id": "952a3bea",
   "metadata": {},
   "source": [
    "### Task 1.1 Fetch `rankings.json` from an internet URL\n",
    "\n",
    "Use the `requests` library to fetch the file at this URL: `https://raw.githubusercontent.com/msyamkumar/cs220-s22-projects/main/p12/rankings.json`. Make sure to call the appropriate function to raise an HTTPError if status code is not 200.\n",
    "\n",
    "Then make a variable called `file_text` that saves the text of the response"
   ]
  },
  {
   "cell_type": "code",
   "execution_count": null,
   "id": "c239ddf1",
   "metadata": {},
   "outputs": [],
   "source": [
    "# Write your code here"
   ]
  },
  {
   "cell_type": "code",
   "execution_count": null,
   "id": "954c89dd",
   "metadata": {},
   "outputs": [],
   "source": [
    "assert file_text[:30] == '[\\n    {\\n        \"World Rank\": '"
   ]
  },
  {
   "cell_type": "markdown",
   "id": "b5814286",
   "metadata": {},
   "source": [
    "### Task 1.2 Save `rankings.json` as a file\n",
    "\n",
    "Open a file in write mode called \"rankings.json\", and write `file_text` to it. Make sure to close it after, unless you used a `with` block.\n",
    "\n",
    "This lecture may be useful: [Files and Directories](https://github.com/tylerharter/caraza-harter-com/blob/master/tyler/meena/cs220/s22/materials/meena_lec_notes/lec-26/files_and_directories.ipynb)"
   ]
  },
  {
   "cell_type": "code",
   "execution_count": null,
   "id": "3ee0965b",
   "metadata": {},
   "outputs": [],
   "source": [
    "# Your code here"
   ]
  },
  {
   "cell_type": "code",
   "execution_count": null,
   "id": "399c19b9",
   "metadata": {},
   "outputs": [],
   "source": [
    "assert(os.path.exists(\"rankings.json\"))"
   ]
  },
  {
   "cell_type": "markdown",
   "id": "7d7b02de",
   "metadata": {},
   "source": [
    "Check your `lab12` directory in Finder (Mac) / Explorer (Windows). It should have a file `rankings.json`."
   ]
  },
  {
   "cell_type": "markdown",
   "id": "c87c927b",
   "metadata": {},
   "source": [
    "### Task 1.3 Implement the `download` function\n",
    "\n",
    "Now, implement a function `download` to download data from the internet and save it to a file. \n",
    "\n",
    "This function takes in two arguments `filename` and `url`. The contents at the address pointed to by the `url` field should be saved into the file whose path is specified by `filename`. Remember that you can reuse the code you wrote above."
   ]
  },
  {
   "cell_type": "code",
   "execution_count": null,
   "id": "970b97a3",
   "metadata": {},
   "outputs": [],
   "source": [
    "def download(filename, url):\n",
    "    # make the request\n",
    "    # get the text\n",
    "    # open the file\n",
    "    # write to the file\n",
    "    # close the file\n",
    "    return (str(filename) + \" created!\")"
   ]
  },
  {
   "cell_type": "markdown",
   "id": "c15ee7eb",
   "metadata": {},
   "source": [
    "### Task 1.4 Implement caching in the `download` function \n",
    "\n",
    "Now go back and modify `download` to implement caching. This means that before downloading the file from the internet, the function should check if the file already exists. *Hint:* We've used the `os` function you need for this in an assert test above and in the test below.\n",
    "\n",
    "If the file already exists, the function should return the message `\"<filename> already exists!\"` where `filename` is the argument. It should not make a request."
   ]
  },
  {
   "cell_type": "markdown",
   "id": "70603939",
   "metadata": {},
   "source": [
    "### Task 1.5 Test the `download` function\n",
    "\n",
    "Run the cell below to test your function. Think about why the test code is written in this way. Ask a TA if you're not sure."
   ]
  },
  {
   "cell_type": "code",
   "execution_count": null,
   "id": "1738cc49",
   "metadata": {},
   "outputs": [],
   "source": [
    "rankings_url = \"https://raw.githubusercontent.com/msyamkumar/cs220-s22-projects/main/p12/rankings.json\"\n",
    "\n",
    "if os.path.exists(\"rankings.json\"):\n",
    "    os.remove(\"rankings.json\") ## delete the existing file\n",
    "\n",
    "assert download(\"rankings.json\", rankings_url) == \"rankings.json created!\"\n",
    "assert(os.path.exists(\"rankings.json\"))\n",
    "assert(os.path.getsize(\"rankings.json\") > 1600000 and os.path.getsize(\"rankings.json\") < 2500000)\n",
    "assert (download(\"rankings.json\",rankings_url) == \"rankings.json already exists!\" )"
   ]
  },
  {
   "cell_type": "markdown",
   "id": "56498bf7",
   "metadata": {},
   "source": [
    "You will have to use this `download` function to download files during p12. This will ensure that you do not download the files each time you 'Restart & Run All'.\n"
   ]
  },
  {
   "cell_type": "markdown",
   "id": "b3ce745f",
   "metadata": {},
   "source": [
    "## Segment 2:  Creating DataFrames\n",
    "\n",
    "For this project, we will be analyzing statistics about world university rankings adapted from\n",
    "[here](https://cwur.org/). The `rankings.json` file was created by scraping content from pages on the linked website. \n",
    "\n",
    "We are going to use `pandas` throughout the lab and project to analyze this dataset."
   ]
  },
  {
   "cell_type": "markdown",
   "id": "470c2330",
   "metadata": {},
   "source": [
    "### Task 2.1 Load data from `rankings.json` into a dataframe"
   ]
  },
  {
   "cell_type": "markdown",
   "id": "740cc6f8",
   "metadata": {},
   "source": [
    "In lecture, you reviewed different ways to create pandas DataFrames. For this task, create a DataFrame `rankings` by reading the JSON data saved in `rankings.json`. \n",
    "\n",
    "We covered the `read_csv` method of pandas in lecture to read CSV files into a DataFrame. Now, we are going to use a similar method `read_json` to read a JSON file into a dataframe. Try this below, and seek help from a TA if you face any trouble.\n",
    "\n",
    "Remember to cast the return value explicitly into a DataFrame object. You must do this throughout the lab and project. \n",
    "Sometimes, the `read_json` function's returned DataFrame has type issues on Windows laptops. Hence the need for explicit type conversion."
   ]
  },
  {
   "cell_type": "code",
   "execution_count": null,
   "id": "c2e910b5",
   "metadata": {
    "scrolled": false
   },
   "outputs": [],
   "source": [
    "# Use the read_json method of pandas to create a DataFrame by reading from a file\n",
    "# Cast the return value of read_json to a DataFrame explicitly\n",
    "rankings = pd.DataFrame(???)\n",
    "\n",
    "rankings.head()"
   ]
  },
  {
   "cell_type": "code",
   "execution_count": null,
   "id": "ed09f03d",
   "metadata": {},
   "outputs": [],
   "source": [
    "assert(type(rankings) == pd.DataFrame)\n",
    "assert(rankings.iloc[0][\"Institution\"] == 'Harvard University')\n",
    "assert(rankings.iloc[1][\"Score\"]== 96.7)"
   ]
  },
  {
   "cell_type": "markdown",
   "id": "9c8470ec",
   "metadata": {},
   "source": [
    "### Task 2.2 Find the unique universities in the dataset\n",
    "\n",
    "As the dataset contains rankings for three different years, the same university may have featured multiple times. Find the names of the unique universities that are represented in the dataset.\n",
    "\n",
    "First, extract just the names of the institutions as a pandas Series. Then, make a list of unique names called `institutions`. Think about what data structure(s) you have been using to extract unique values from a list. Series can be easily converted into that useful data structure, and that data structure can be converted back into a series."
   ]
  },
  {
   "cell_type": "code",
   "execution_count": null,
   "id": "649ab7cf",
   "metadata": {},
   "outputs": [],
   "source": [
    "# Create a pandas `Series` of just the institution names in the dataset. \n",
    "institutions = ???"
   ]
  },
  {
   "cell_type": "code",
   "execution_count": null,
   "id": "251516a4",
   "metadata": {},
   "outputs": [],
   "source": [
    "assert(type(institutions) == pd.Series)\n",
    "assert(len(institutions) == 2156)"
   ]
  },
  {
   "cell_type": "markdown",
   "id": "b971679d",
   "metadata": {},
   "source": [
    "### Task 2.3 Use `value_counts` to count instances in a dataframe\n",
    "\n",
    "Now, let's find the country that is the 5th most represented in the dataframe, and the number of times it features. Recall that `value_counts` enables us to count number of occurrences of unique values in a pandas Series.\n",
    "\n",
    "#### Task 2.3a Obtain the counts for all countries\n",
    "\n",
    "First, use the `value_counts` function to return a pandas series called `country_counts`. This series contains each country in the dataset and the number of times it occurs."
   ]
  },
  {
   "cell_type": "code",
   "execution_count": null,
   "id": "46df6bf7",
   "metadata": {},
   "outputs": [],
   "source": [
    "country_counts = ???"
   ]
  },
  {
   "cell_type": "code",
   "execution_count": null,
   "id": "a032ebfd",
   "metadata": {},
   "outputs": [],
   "source": [
    "assert(type(country_counts) == pd.Series)\n",
    "assert(country_counts[\"USA\"] == 1062)\n",
    "assert(len(country_counts) == 103)"
   ]
  },
  {
   "cell_type": "markdown",
   "id": "e80dea20",
   "metadata": {},
   "source": [
    "#### Task 2.3b Find the 5th most represented country\n",
    "\n",
    "Use the `.index` attribute of the `Series` `country_counts` to fetch the name of the 5th most represented country. Use `loc` or `iloc` to fetch the count of this country. Make sure to use the pandas series defined in Task 2.3a.\n",
    "\n",
    "**Hint**: The pandas `Series.index` works differently from the `.index` method you are familiar with for python lists. `Series.index` takes in the numerical index of the element you want to access, and returns the label you can pass to `.loc` to access it."
   ]
  },
  {
   "cell_type": "code",
   "execution_count": null,
   "id": "51935d37",
   "metadata": {},
   "outputs": [],
   "source": [
    "country = country_counts.index[???]\n",
    "count = ???"
   ]
  },
  {
   "cell_type": "code",
   "execution_count": null,
   "id": "7bb7bbba",
   "metadata": {},
   "outputs": [],
   "source": [
    "assert(country == \"France\")\n",
    "assert(count == 256)"
   ]
  },
  {
   "cell_type": "markdown",
   "id": "4708406b",
   "metadata": {},
   "source": [
    "### Task 2.4 `loc` vs `iloc`"
   ]
  },
  {
   "cell_type": "markdown",
   "id": "a4448b40",
   "metadata": {},
   "source": [
    "In this lab and project, you must only use `iloc`. Using `loc` will be considered hardcording. This is since `iloc` selects rows and columns at the given integer position while `loc` selects rows at the given pandas index. \n",
    "\n",
    "Intuition: Recall that row index can be given meaningful names like string indices. Consider a scenario where you add rows to the beginning of the DataFrame - if you use `.loc` indexing, your answer will become incorrect if the data changes. Whereas if you use `.iloc`, you will always get the correct answer.\n",
    "\n",
    "This distinction may not be as intuitive for the current `rankings` dataframe. As an example, use both `loc` and `iloc` to fetch the first row in `rankings`."
   ]
  },
  {
   "cell_type": "code",
   "execution_count": null,
   "id": "c9481efa",
   "metadata": {},
   "outputs": [],
   "source": [
    "first_row_iloc = ???\n",
    "print(first_row_iloc)\n",
    "first_row_loc = ???\n",
    "print(first_row_loc)"
   ]
  },
  {
   "cell_type": "markdown",
   "id": "409581bb",
   "metadata": {},
   "source": [
    "The results are exactly the same! This happens since the integer positions correspond to the pandas indices in the `rankings` dataframe. However, this will not always hold true - as we see in the next task."
   ]
  },
  {
   "cell_type": "markdown",
   "id": "0625ab34",
   "metadata": {},
   "source": [
    "### Task 2.5 Use boolean indexing to filter data"
   ]
  },
  {
   "cell_type": "markdown",
   "id": "73fc0f85",
   "metadata": {},
   "source": [
    "Now, use boolean indexing to extract data from the dataframe. Recall boolean indexing from [lecture](https://github.com/tylerharter/caraza-harter-com/blob/master/tyler/meena/cs220/s22/materials/meena_lec_notes/lec-28/lec_28_pandas2.ipynb)\n",
    "\n",
    "Create a dataframe `rankings_arg_bra` that only consists of rankings of universities from Argentina and Brazil. Extract the first value in this new dataframe. As you'll see, using `loc` will not work the same way it did before. The code in line 5 of the next cell should now return a KeyError.\n",
    "\n",
    "**Hint**: When implementing boolean indexing in pandas, the `or` operator is represented by `|` and the `and` operator is represented by `&`."
   ]
  },
  {
   "cell_type": "code",
   "execution_count": null,
   "id": "08166b72",
   "metadata": {},
   "outputs": [],
   "source": [
    "rankings_arg_bra = ???\n",
    "rankings_arg_bra"
   ]
  },
  {
   "cell_type": "code",
   "execution_count": null,
   "id": "dfab6e71",
   "metadata": {},
   "outputs": [],
   "source": [
    "first_row_iloc = rankings_arg_bra.iloc[0]\n",
    "print(first_row_iloc)\n",
    "first_row_loc = rankings_arg_bra.loc[0]\n",
    "print(first_row_loc)"
   ]
  },
  {
   "cell_type": "markdown",
   "id": "811dd8ef",
   "metadata": {},
   "source": [
    "Oops! We see that using `.loc` now causes a KeyError.\n",
    "\n",
    "`.loc[0]` tries to find the row with the *labeled* index 0. Run the cell below and notice how `rankings_arg_bra` starts at the labeled index 127. There is no 0. Hence the KeyError."
   ]
  },
  {
   "cell_type": "code",
   "execution_count": null,
   "id": "d9f26433",
   "metadata": {},
   "outputs": [],
   "source": [
    "rankings_arg_bra.head()"
   ]
  },
  {
   "cell_type": "markdown",
   "id": "292f2828",
   "metadata": {},
   "source": [
    "### Task 2.6 Sort the dataframe"
   ]
  },
  {
   "cell_type": "markdown",
   "id": "96eeaaeb",
   "metadata": {},
   "source": [
    "The dataframe in Task 2.5 is sorted by World Rank, with the result that universities from Argentina and Brazil are interleaved throughout the data. Re-sort the data to sort by country so that all universities from Argentina appear first followed by universities from Brazil. Within each country, the universities should be sorted by their National Rank. \n",
    "\n",
    "Use the `sort_values` function of `pandas`. Remember - by default, `pandas` returns a new sorted DataFrame and does not modify the existing one.\n",
    "\n",
    "Recall that `sort_values` takes an argument for the parameter `by` as the column name, based on which you want to do the sorting. If you want to use one column for primary sorting and another for secondary sorting, you can specify a list of column names."
   ]
  },
  {
   "cell_type": "code",
   "execution_count": null,
   "id": "9bc78818",
   "metadata": {},
   "outputs": [],
   "source": [
    "sorted_rankings_arg_bra = ???\n",
    "\n",
    "sorted_rankings_arg_bra.head()"
   ]
  },
  {
   "cell_type": "code",
   "execution_count": null,
   "id": "a5a21a9c",
   "metadata": {},
   "outputs": [],
   "source": [
    "assert(sorted_rankings_arg_bra.iloc[0][\"Institution\"] == \"University of Buenos Aires\")\n",
    "assert(sorted_rankings_arg_bra.iloc[-1][\"World Rank\"] == 1997)"
   ]
  },
  {
   "cell_type": "markdown",
   "id": "557b328d",
   "metadata": {},
   "source": [
    "### Task 2.7 Create a new, simplified dataframe to track changes in rankings"
   ]
  },
  {
   "cell_type": "markdown",
   "id": "714acb5b",
   "metadata": {},
   "source": [
    "As we have seen, universities that have featured in rankings of multiple years are featured repeatedly. To simplify comparisons, we want to feature each university once and remove all other metrics. \n",
    "\n",
    "This time - instead of simply ranking universities, we want to find the absolute change in universities' rankings between the year 2019-2020 and 2020-2021. We are only interested in the absolute change and not whether the rank improved or declined.  \n",
    "\n",
    "First, let's attempt to measure the change for one particular university.\n",
    "\n",
    "**Hint**: The `abs` function can be used to find the absolute value.\n",
    "\n",
    "#### Task 2.7a Find the absolute difference in World Rank for \"University of Madras\" between 2019-2020 and 2020-2021\n",
    "\n",
    "Store the difference in a variable `absolute_diff_madras`"
   ]
  },
  {
   "cell_type": "code",
   "execution_count": null,
   "id": "4353ab3d",
   "metadata": {},
   "outputs": [],
   "source": [
    "# First find the ranking of \"University of Madras\" in the year \"2019-2020\"\n",
    "# Then find the ranking of \"University of Madras\" in the year \"2020-2021\n",
    "# Remember to use .iloc[0] to extract the value\n",
    "absolute_diff_madras = ???"
   ]
  },
  {
   "cell_type": "code",
   "execution_count": null,
   "id": "b6da84f0",
   "metadata": {},
   "outputs": [],
   "source": [
    "assert(absolute_diff_madras == 108)"
   ]
  },
  {
   "cell_type": "markdown",
   "id": "e9c5dfd4",
   "metadata": {},
   "source": [
    "#### Task 2.7b Create a Series with the absolute difference in ranks for \"University of Madras\" between 2019-2020 and 2020-2021\n",
    "\n",
    "First, create a dictionary with the keys as \"Institution\" and \"Absolute Change\". The values should be the relevant values for \"University of Madras\". Then, convert this dictionary to a Series called `madras_series`."
   ]
  },
  {
   "cell_type": "code",
   "execution_count": null,
   "id": "813a7351",
   "metadata": {},
   "outputs": [],
   "source": []
  },
  {
   "cell_type": "code",
   "execution_count": null,
   "id": "8c0fb02a",
   "metadata": {},
   "outputs": [],
   "source": [
    "assert(madras_series[\"Institution\"] == \"University of Madras\")\n",
    "assert(madras_series[\"Absolute Change\"] == 108)"
   ]
  },
  {
   "cell_type": "markdown",
   "id": "c069767a",
   "metadata": {},
   "source": [
    "#### Task 2.7c Create the `change_in_rankings` dataframe\n",
    "\n",
    "Now, create a dataframe `change_in_rankings` with just 2 columns, \"Institution\" and \"Absolute Change\" where each university is only featured once. For this task, we are interested in universities in all countries. If the institution is not present in the rankings of either year, we will ignore it.\n",
    "\n",
    "The institutions should be sorted in increasing order of their absolute change. For institutions with the same absolute change, sort them alphabetically by their names.\n",
    "\n",
    "Note: this cell may take a few seconds to run."
   ]
  },
  {
   "cell_type": "code",
   "execution_count": null,
   "id": "92a57fe2",
   "metadata": {},
   "outputs": [],
   "source": [
    "# Suggested Approach:\n",
    "# Initialize an empty list\n",
    "# For each institution,\n",
    "    # create a new dataframe that has rankings for only this institution\n",
    "    # (Hint: Use boolean indexing for the \"Institution\" column)\n",
    "    \n",
    "    # Create a list of years by casting the \"Year\" column of this dataframe to a list\n",
    "    # check if \"2019-2020\" or \"2020-2021\" are *not* in this list\n",
    "        #If so, skip this institution\n",
    "        \n",
    "    # Extract the World Rank for each year from the new dataframe \n",
    "    # Remember to use .iloc[0] to extract the actual value\n",
    "    # Find their absolute difference\n",
    "    \n",
    "    \n",
    "    # Make a mini dictionary where the keys are “Institution” and “Absolute Change”\n",
    "    # and the values are the corresponding values you just found for this institution\n",
    "    \n",
    "    # Append this dictionary to the empty list initialized in the first step\n",
    "# Finally, convert the list of dicts to a pandas dataframe called change_in_rankings\n",
    "# Sort this dataframe using .sort_values() similar to Task 2.6"
   ]
  },
  {
   "cell_type": "markdown",
   "id": "105ac044",
   "metadata": {},
   "source": [
    "Test your function below."
   ]
  },
  {
   "cell_type": "code",
   "execution_count": null,
   "id": "cd49ebb0",
   "metadata": {},
   "outputs": [],
   "source": [
    "assert(change_in_rankings.iloc[100][\"Institution\"] == \"Vrije Universiteit Brussel\")\n",
    "assert(change_in_rankings.iloc[-1][\"Absolute Change\"] == 1081)\n",
    "assert(change_in_rankings.shape[1] == 2)"
   ]
  },
  {
   "cell_type": "markdown",
   "id": "134f0c40",
   "metadata": {},
   "source": [
    "# Segment 3: Lint\n",
    "\n",
    "The p12 autograder introduces lint checks to detect bad coding style. \n",
    "\"Lint\" refers to bad code that is not necessarily buggy (though \"bad\" coding style often leads to bugs).  A linter helps warn you about common issues. If you are interested in finding out about the origins of this term, check out the [Wikipedia page](https://en.wikipedia.org/wiki/Lint_(software)).\n",
    "\n",
    "For project p12, we're adding a linter as part of `test.py`. It will notify you of code that is bad style, deducting 1% per issue (for a max of a 10% penalty).  "
   ]
  },
  {
   "cell_type": "markdown",
   "id": "557aef09",
   "metadata": {},
   "source": [
    "### Task 3.1 Install the pylint module\n",
    "\n",
    "For the linter to run properly, install the `pylint` module by running this command in your terminal.\n",
    "\n",
    "`\n",
    "pip install pylint\n",
    "`\n",
    "\n",
    "Verify that the installation worked by simply running the `pylint` command in your terminal. You should see text explaining the various `pylint` options available. If you see a `command not found` error, ask a TA!"
   ]
  },
  {
   "cell_type": "markdown",
   "id": "9b56f983",
   "metadata": {},
   "source": [
    "### Task 3.2 Run the pylint module\n",
    "\n",
    "In a new notebook (e.g., named `lint_nb.ipynb`), paste the following code and save the notebook."
   ]
  },
  {
   "cell_type": "code",
   "execution_count": null,
   "id": "01d6e710",
   "metadata": {},
   "outputs": [],
   "source": [
    "def abs(list):\n",
    "    # Objective: return a new list, which contains absolute values of \n",
    "    #            items from the original list\n",
    "    list = list[:] # copy it\n",
    "    for i in range(len(list)):\n",
    "        if list[i] < 0:\n",
    "            list[i] = -list[i]\n",
    "    return list\n",
    "\n",
    "abs([-1, -3, 5, -4, 8])"
   ]
  },
  {
   "cell_type": "markdown",
   "id": "e0a3f3e3",
   "metadata": {},
   "source": [
    "Now open your terminal (Windows: PowerShell, Mac: Terminal), navigate to the directory you are currently working on (the folder which contains the lint_nb.ipynb and lint.py), and run the linter: \n",
    "\n",
    "`\n",
    "python lint.py -v lint_nb.ipynb \n",
    "`\n",
    "\n",
    "The command above assumes your code is in a notebook called `lint_nb.ipynb`. If you want to test some other code you've written in a different notebook, simply substitute `lint_nb.ipynb` with the name of your notebook (e.g. `main.ipynb`)\n",
    "\n",
    "Consider why the linter is complaining, then write a better version of the function to make the linter happy. Recall that any word with green syntax highlighting in jupyter notebook is a Python keyword. You should not be using such words as variable names or function names.\n",
    "\n",
    "You can find extensive documentation for the file lint.py [here](https://github.com/msyamkumar/cs220-s22-projects/tree/main/linter). If you find the linter confusing, please read the full documentation there!"
   ]
  },
  {
   "cell_type": "markdown",
   "id": "cbb5a74e",
   "metadata": {},
   "source": [
    "# Segment 4: BeautifulSoup"
   ]
  },
  {
   "cell_type": "markdown",
   "id": "54c815e5",
   "metadata": {},
   "source": [
    "As mentioned in Segment 2, the `rankings.json` file is created by parsing HTML content on the Web, specifically the web pages listed below.\n",
    "* https://raw.githubusercontent.com/msyamkumar/cs220-s22-projects/main/p12/2019-2020.html\n",
    "* https://raw.githubusercontent.com/msyamkumar/cs220-s22-projects/main/p12/2020-2021.html\n",
    "* https://raw.githubusercontent.com/msyamkumar/cs220-s22-projects/main/p12/2021-2022.html\n",
    "\n",
    "Now, let's write a function to do this ourselves. We will use the `BeautifulSoup` library to scrape web pages and extract information."
   ]
  },
  {
   "cell_type": "markdown",
   "id": "ae12fb9f",
   "metadata": {},
   "source": [
    "### Task 4.1 Download the HTML files\n",
    "Use the `download` function you previously created to download the contents of each of the URLs above and save them into files. Name the files `2019-2020.html`, `2020-2021.html` and `2021-2022.html` based on the respective URL."
   ]
  },
  {
   "cell_type": "code",
   "execution_count": null,
   "id": "50cb15ff",
   "metadata": {},
   "outputs": [],
   "source": [
    "# Your code here"
   ]
  },
  {
   "cell_type": "markdown",
   "id": "59510a31",
   "metadata": {},
   "source": [
    "### Task 4.2 Read `2019-2020.html` content into a variable\n",
    "\n",
    "**Note:** If you get a `UnicodeDecodeError`, make sure all your calls to `open()` have the keyword argument `encoding=\"utf-8\"`. Delete the downloaded files and run the cell above again."
   ]
  },
  {
   "cell_type": "code",
   "execution_count": null,
   "id": "e09ba60f",
   "metadata": {},
   "outputs": [],
   "source": [
    "# Your code here"
   ]
  },
  {
   "cell_type": "markdown",
   "id": "7198846c",
   "metadata": {},
   "source": [
    "### Task 4.3 Initialize BeautifulSoup object instance\n",
    "\n",
    "Use the variable defined in Task 4.2. "
   ]
  },
  {
   "cell_type": "code",
   "execution_count": null,
   "id": "c7707a22",
   "metadata": {},
   "outputs": [],
   "source": [
    "# Your code here"
   ]
  },
  {
   "cell_type": "markdown",
   "id": "874a8204",
   "metadata": {},
   "source": [
    "### Task 4.4 Find the table element\n",
    "\n",
    "The webpage has a table containing all the data we're trying to extract. Write the code to find this element and store it in a variable. Use the BeautifulSoup object instance defined in Task 4.3."
   ]
  },
  {
   "cell_type": "code",
   "execution_count": null,
   "id": "73e2fc79",
   "metadata": {},
   "outputs": [],
   "source": [
    "# Write your code here"
   ]
  },
  {
   "cell_type": "markdown",
   "id": "0659d77c",
   "metadata": {},
   "source": [
    "### Task 4.5 Find all th tags, to parse the table header\n",
    "\n",
    "Use the variable defined in Task 4.4. Save your answer to a variable named `header` in order to pass the asserts.\n",
    "\n",
    "**Hint**: The header should be a list of elements, that can be obtained by using the `get_text()` method for each `th` element in the table. List comprehension may be useful here."
   ]
  },
  {
   "cell_type": "code",
   "execution_count": null,
   "id": "10082cbf",
   "metadata": {},
   "outputs": [],
   "source": [
    "# Write your code here"
   ]
  },
  {
   "cell_type": "code",
   "execution_count": null,
   "id": "2abf9e15",
   "metadata": {},
   "outputs": [],
   "source": [
    "assert(len(header) == 9)\n",
    "assert(type(header) == list)\n",
    "assert(header[0] == \"World Rank\")\n",
    "assert(header[-1] == \"Score\")"
   ]
  },
  {
   "cell_type": "markdown",
   "id": "cd97c488",
   "metadata": {},
   "source": [
    "Great work! The next tasks are optional. You may choose to skip them and start the lab! You can revisit this section when you are solving the relevant portion of P12."
   ]
  },
  {
   "cell_type": "markdown",
   "id": "b86fca71",
   "metadata": {},
   "source": [
    "### Task 4.6 (Optional) Build row dictionary for one row\n",
    "\n",
    "Scrape the second row (the first one is the header!), convert data to the appropriate types, and populate the data into a row dictionary. The keys of the dictionary are the columns in the dataframe. Avoid hardcoding these keys - instead, use the variable obtained in the previous task.\n",
    "\n",
    "**Hint**: Rows can be found by locating the `tr` elements in the table.\n",
    "\n",
    "- \"World Rank\", \"National Rank\", \"Quality of Education Rank\", \"Alumni Employment Rank\", \"Quality of Faculty Rank\", \"Research Performance Rank\": `int` conversion\n",
    "- \"Score\"  : `float` conversion\n",
    "\n",
    "You can compare your parsing output to `rankings.json` file contents, to confirm your result.\n"
   ]
  },
  {
   "cell_type": "code",
   "execution_count": null,
   "id": "8affe622",
   "metadata": {},
   "outputs": [],
   "source": [
    "# Write your code here"
   ]
  },
  {
   "cell_type": "markdown",
   "id": "4fff288f",
   "metadata": {},
   "source": [
    "### Task 4.7 (Optional) Build list of all row dictionaries\n",
    "\n",
    "Scrape all rows, convert data to appropriate types, and populate data into a row dictionary and append row dictionaries into a list.\n",
    "\n",
    "This is a natural extension of Task 4.6. You can use a loop to extract all rows and populate the list.\n",
    "\n",
    "**Important**:\n",
    "* Some fields in the dataset have missing values, represented simply as `-`.\n",
    "* The \"Year\" value isn't present in the dataset. Think of a different way to populate this field."
   ]
  },
  {
   "cell_type": "code",
   "execution_count": null,
   "id": "401e5a99",
   "metadata": {},
   "outputs": [],
   "source": [
    "# Write your code here"
   ]
  },
  {
   "cell_type": "markdown",
   "id": "83ed2994",
   "metadata": {},
   "source": [
    "### Task 4.8 (Optional) Write the parse_html function\n",
    "\n",
    "Convert tasks 4.2 to 4.7 to a function. The function should take in a `filename` as input and return a list of dictionaries, each dictionary representing a row in the dataset."
   ]
  },
  {
   "cell_type": "code",
   "execution_count": null,
   "id": "a855afdc",
   "metadata": {},
   "outputs": [],
   "source": [
    "def parse_html(filename):\n",
    "    '''This function parses an HTML file and returns a list of dictionaries containing the tabular data'''\n",
    "    #TODO: Write your code here\n",
    "    pass\n",
    "    "
   ]
  },
  {
   "cell_type": "markdown",
   "id": "d6f6835b",
   "metadata": {},
   "source": [
    "Finally, test your code below."
   ]
  },
  {
   "cell_type": "code",
   "execution_count": null,
   "id": "4c39ca4e",
   "metadata": {},
   "outputs": [],
   "source": [
    "assert(parse_html(\"2019-2020.html\")[-1][\"Institution\"] == 'Government College University Faisalabad')\n",
    "assert(parse_html(\"2020-2021.html\")[15][\"Score\"] == 89.0)\n",
    "assert(parse_html(\"2021-2022.html\")[100][\"Country\"] == 'United Kingdom')\n",
    "assert(parse_html(\"2021-2022.html\")[25][\"World Rank\"] == 26)\n",
    "assert(parse_html(\"2020-2021.html\")[-5][\"National Rank\"] == 15)\n",
    "assert(parse_html(\"2019-2020.html\")[50][\"Quality of Faculty Rank\"] == 78)\n",
    "assert(parse_html(\"2021-2022.html\")[87][\"Alumni Employment Rank\"] == 464)\n",
    "assert(parse_html(\"2020-2021.html\")[40][\"Research Performance Rank\"] == 398)\n",
    "assert(parse_html(\"2019-2020.html\")[0][\"Year\"] == \"2019-2020\")"
   ]
  },
  {
   "cell_type": "markdown",
   "id": "4f2b7c36",
   "metadata": {},
   "source": [
    "### Congratulations, you are now ready to start p12!"
   ]
  }
 ],
 "metadata": {
  "kernelspec": {
   "display_name": "Python 3 (ipykernel)",
   "language": "python",
   "name": "python3"
  },
  "language_info": {
   "codemirror_mode": {
    "name": "ipython",
    "version": 3
   },
   "file_extension": ".py",
   "mimetype": "text/x-python",
   "name": "python",
   "nbconvert_exporter": "python",
   "pygments_lexer": "ipython3",
   "version": "3.9.7"
  }
 },
 "nbformat": 4,
 "nbformat_minor": 5
}
