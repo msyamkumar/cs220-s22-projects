{
 "cells": [
  {
   "cell_type": "markdown",
   "id": "bf8001ac",
   "metadata": {},
   "source": [
    "# Lab-P7: Analyzing Covid Vaccination Data"
   ]
  },
  {
   "cell_type": "code",
   "execution_count": null,
   "id": "abe012ad",
   "metadata": {},
   "outputs": [],
   "source": [
    "## Please make sure \"vaccinations.csv\" is in your \"lab7\" folder.\n",
    "import csv\n",
    "import datetime"
   ]
  },
  {
   "cell_type": "markdown",
   "id": "6926bf1f",
   "metadata": {},
   "source": [
    "## Segment 2: Loading Data from CSVs"
   ]
  },
  {
   "cell_type": "markdown",
   "id": "29301c84",
   "metadata": {},
   "source": [
    "### Task 2.1: Process the CSV file\n",
    "[Chapter 14](https://automatetheboringstuff.com/chapter14/) of Automate the Boring Stuff introduces CSV files and provides a code snippet we can reuse. We will use the same code we used for p6 to read in the csv file."
   ]
  },
  {
   "cell_type": "code",
   "execution_count": null,
   "id": "289f8744",
   "metadata": {},
   "outputs": [],
   "source": [
    "def process_csv(filename):\n",
    "    example_file = open(filename, encoding=\"utf-8\")\n",
    "    example_reader = csv.reader(example_file)\n",
    "    example_data = list(example_reader)\n",
    "    example_file.close()\n",
    "    return example_data"
   ]
  },
  {
   "cell_type": "code",
   "execution_count": null,
   "id": "1ed0fa25",
   "metadata": {},
   "outputs": [],
   "source": [
    "# Use process_csv to pull out the header and data rows\n",
    "csv_rows = process_csv(\"vaccinations.csv\")\n",
    "\n",
    "# Use indexing to extract the first inner list\n",
    "csv_header = ???\n",
    "\n",
    "# Use slicing to extract all the inner lists, except the first one\n",
    "csv_data = ???"
   ]
  },
  {
   "cell_type": "code",
   "execution_count": null,
   "id": "1900e2b3",
   "metadata": {},
   "outputs": [],
   "source": [
    "# Question: What are the names of the columns in the dataset?\n",
    "# We did this one for you:\n",
    "csv_header"
   ]
  },
  {
   "cell_type": "code",
   "execution_count": null,
   "id": "20dd44fd",
   "metadata": {},
   "outputs": [],
   "source": [
    "# Question: How many rows of data (excluding header) are present in the dataset?\n",
    "# Fill in the blank\n",
    "print(\"Expected: 1218 \\t Actual:\", ????)"
   ]
  },
  {
   "cell_type": "markdown",
   "id": "110dcf74",
   "metadata": {},
   "source": [
    "### About the dataset\n",
    "The `vaccinations.csv` file has vaccination data about 174 different countries in the last week of January 2022. Each row in the file contains the following information about a country on a specific date:"
   ]
  },
  {
   "cell_type": "markdown",
   "id": "3933871e",
   "metadata": {},
   "source": [
    "1. `daily_vaccinations` - Number of vaccines administered on that day\n",
    "2. `total_vaccinations` - Total number of vaccines administered in total up to that day\n",
    "3. `people_vaccinated` - Total number of people who have received at least one dose of the vaccine.\n",
    "4. `people_fully_vaccinated` - Total number of people who have received two doses of the vaccine.\n",
    "5. `total_boosters` - Total number of COVID-19 vaccination booster doses administered (doses administered beyond the number prescribed by the vaccination protocol).\n",
    "6. `population` - Population of the country\n",
    "\n",
    "<b>Note:</b> Keep in mind while writing your project, some entries may be missing data for specific columns. Sadly, data in real life is often messy, and in p7, we will have to deal with missing data.\n",
    "\n"
   ]
  },
  {
   "cell_type": "markdown",
   "id": "5a9fde4d",
   "metadata": {},
   "source": [
    "### Task 2.2: Modify the cell function from p6 to work with vaccinations.csv\n",
    "The vaccination data is formatted similarly to the airbnb data from p6. Modify the cell() function you wrote in p6 so that it correctly converts the data into the correct types. Keep in mind that:\n",
    "\n",
    "1. `daily_vaccinations` - should be an int\n",
    "2. `total_vaccinations` - should be an int\n",
    "3. `people_vaccinated` - should be an int\n",
    "4. `people_fully_vaccinated` - should be an int\n",
    "5. `total_boosters` - should be an int\n",
    "6. `population` - should be an int\n",
    "7. `date` - should be a string\n",
    "8. `country` - should be a string"
   ]
  },
  {
   "cell_type": "code",
   "execution_count": null,
   "id": "8ccff314",
   "metadata": {},
   "outputs": [],
   "source": [
    "def cell(row_idx, col_name):\n",
    "    \"\"\"\n",
    "    Returns the data value (cell) corresponding to the row index and \n",
    "    the column name of a CSV file.\n",
    "    \"\"\"\n",
    "    col_idx = csv_header.index(col_name)\n",
    "    val = csv_data[row_idx][col_idx]\n",
    "    if val == \"\": # this is how we handle a missing value in the dataset\n",
    "        return None\n",
    "    \n",
    "    # TODO: make sure the function returns val with the appropriate type\n",
    "    return val"
   ]
  },
  {
   "cell_type": "code",
   "execution_count": null,
   "id": "9b86efd5",
   "metadata": {},
   "outputs": [],
   "source": [
    "# Test out your implementation:\n",
    "print(\"Expected: Afghanistan with type string \\t Actual:\", cell(0, \"country\"), type(cell(0, \"country\")))"
   ]
  },
  {
   "cell_type": "code",
   "execution_count": null,
   "id": "8e450d49",
   "metadata": {},
   "outputs": [],
   "source": [
    "# Test out your implementation\n",
    "print(\"Expected: 30887 with type int \\t Actual:\", cell(66, \"daily_vaccinations\"), \\\n",
    "      type(cell(66, \"daily_vaccinations\")))"
   ]
  },
  {
   "cell_type": "markdown",
   "id": "1ae531f1",
   "metadata": {},
   "source": [
    "## Segment 3: Dictionaries"
   ]
  },
  {
   "cell_type": "markdown",
   "id": "efd8ed78",
   "metadata": {},
   "source": [
    "### Task 3.1: Use a dictionary to organize the booster data by country.\n",
    "In this task, you will create a dictionary whose keys are country names, and the corresponding values are the total number of booster shots administered for that country. Note that we don't have booster data for many countries, so some values in the dictionary should be None.\n"
   ]
  },
  {
   "cell_type": "code",
   "execution_count": null,
   "id": "21b89eae",
   "metadata": {},
   "outputs": [],
   "source": [
    "boosters = {} #key: country name, value: popluation\n",
    "\n",
    "for row_idx in range(???):\n",
    "    country = ???\n",
    "    total_boosted = ???\n",
    "    if country not in boosters:\n",
    "        boosters[country] = None # Initial place holder for country, we will replace this using next condition\n",
    "    if ???: # TODO: check that the booster data is not missing\n",
    "        boosters[???] = ??? # TODO: add the key-value pair to the dict"
   ]
  },
  {
   "cell_type": "code",
   "execution_count": null,
   "id": "dfb53e61",
   "metadata": {},
   "outputs": [],
   "source": [
    "# Test your implementation here:\n",
    "print(\"Expected: 89474239\\t Actual:\", boosters['United States'])"
   ]
  },
  {
   "cell_type": "code",
   "execution_count": null,
   "id": "70e9c4ea",
   "metadata": {},
   "outputs": [],
   "source": [
    "print(\"Expected: None\\t Actual:\", boosters['Armenia'])"
   ]
  },
  {
   "cell_type": "markdown",
   "id": "913f15cc",
   "metadata": {},
   "source": [
    "### Task 3.2: Improve the dictionary so that it uses the most recent vaccination data that is not missing\n",
    "You may have noticed that there are missing entries in the data. For example, for Bosnia and Herzegovina, the data is missing from Jan 30. So, for Jan 30 to Jan 31, we will use the data from Jan 29 which is the most recent day before Jan 30.\n",
    "\n",
    "<img src=\"https://github.com/msyamkumar/cs220-s22-projects/raw/main/lab-p7/images/bosniaherzegovina.png/\" width=\"600\">\n",
    "\n",
    "For other countries such as Rwanda, the data is only available on and after Jan 27. However, for Jan 25 to Jan 26, we don't have any information available. Therefore, we will set the values to None for Jan 25 to Jan 26.\n",
    "\n",
    "<img src=\"https://github.com/msyamkumar/cs220-s22-projects/raw/main/lab-p7/images/rwanda.png/\" width=\"600\">\n",
    "\n",
    "\n",
    "Fill in the stencil below to create a dictionary that maps country name to the most recent data in the given column `col_name`. Your answer should be a dict mapping each country to the last date for which the column data is not missing. For countries that have data missing on all seven days, the value should be None. You might find the `get_number_of_days` function from p5 useful here to check if the date is on or before the given date, so we have copied it below."
   ]
  },
  {
   "cell_type": "code",
   "execution_count": null,
   "id": "2eee5688",
   "metadata": {},
   "outputs": [],
   "source": [
    "def get_number_of_days(start_date, end_date):\n",
    "    \"\"\"Gets the number of days between the start_date and end_date\"\"\"\n",
    "    # The second argument is a format string to tell the function how to process the date string\n",
    "    day1 = datetime.datetime.strptime(start_date, '%m/%d/%Y') \n",
    "    day2 = datetime.datetime.strptime(end_date, '%m/%d/%Y')\n",
    "    delta = day2 - day1\n",
    "    return delta.days"
   ]
  },
  {
   "cell_type": "code",
   "execution_count": null,
   "id": "089d39bc",
   "metadata": {},
   "outputs": [],
   "source": [
    "def most_recent_total(col_name, given_date):\n",
    "    '''return a dictionary mapping each country to the most recent column value in the data \n",
    "    available by the given date; if no data is available, the value is None.'''\n",
    "    country_info = {}\n",
    "    for row_idx in range(???):\n",
    "        country = ???\n",
    "        date = ???\n",
    "        col_value = ???\n",
    "        if country not in country_info:\n",
    "            country_info[???] = ???\n",
    "        if ??? # Make sure the column value is not missing AND Check if the date is on or before given_date:\n",
    "            country_info[country] = col_value\n",
    "    return ???"
   ]
  },
  {
   "cell_type": "markdown",
   "id": "10998f58",
   "metadata": {},
   "source": [
    "Is your implementation correct? Test it with the following:"
   ]
  },
  {
   "cell_type": "code",
   "execution_count": null,
   "id": "fbef32a2",
   "metadata": {},
   "outputs": [],
   "source": [
    "people_fully_vaccinated_by_Jan25 = most_recent_total(\"people_fully_vaccinated\", \"01/25/2022\")\n",
    "people_fully_vaccinated_by_Jan26 = most_recent_total(\"people_fully_vaccinated\", \"01/26/2022\")\n",
    "people_fully_vaccinated_by_Jan27 = most_recent_total(\"people_fully_vaccinated\", \"01/27/2022\")\n",
    "people_fully_vaccinated_by_Jan28 = most_recent_total(\"people_fully_vaccinated\", \"01/28/2022\")\n",
    "people_fully_vaccinated_by_Jan29 = most_recent_total(\"people_fully_vaccinated\", \"01/29/2022\")\n",
    "\n",
    "print(\"Expected: 842954\\t Actual:\", people_fully_vaccinated_by_Jan28['Bosnia and Herzegovina'])\n",
    "print(\"Expected: 846080\\t Actual:\", people_fully_vaccinated_by_Jan29['Bosnia and Herzegovina'])\n",
    "\n",
    "# Different country:\n",
    "print(\"Expected: None\\t Actual:\", people_fully_vaccinated_by_Jan25['Rwanda'])\n",
    "print(\"Expected: None\\t Actual:\", people_fully_vaccinated_by_Jan26['Rwanda'])\n",
    "print(\"Expected: 7044723\\t Actual:\", people_fully_vaccinated_by_Jan27['Rwanda'])\n",
    "\n",
    "# If you get None for the test below, you might have forgotten to make sure the col_value\n",
    "# is not missing on line 11 in most_recent_total\n",
    "print(\"Expected: 4517380\\t Actual:\", most_recent_total(\"people_vaccinated\", \"01/28/2022\")['Afghanistan'])"
   ]
  },
  {
   "cell_type": "code",
   "execution_count": null,
   "id": "0f81c110",
   "metadata": {},
   "outputs": [],
   "source": [
    "# Check to make sure your code works with different column names:\n",
    "daily_vaccinations_by_Jan29 = most_recent_total(\"daily_vaccinations\", \"01/29/2022\")\n",
    "total_vaccinations_by_Jan29 = most_recent_total(\"total_vaccinations\", \"01/29/2022\")\n",
    "people_vaccinated_by_Jan29 = most_recent_total(\"people_vaccinated\", \"01/29/2022\")\n",
    "\n",
    "\n",
    "print(\"Expected: 6868\\t Actual:\", daily_vaccinations_by_Jan29['Afghanistan'])\n",
    "print(\"Expected: 5081064\\t Actual:\", total_vaccinations_by_Jan29['Afghanistan'])\n",
    "print(\"Expected: 4517380\\t Actual:\", people_vaccinated_by_Jan29['Afghanistan'])"
   ]
  },
  {
   "cell_type": "markdown",
   "id": "1385d415",
   "metadata": {},
   "source": [
    "**Important**: If you are unsure if you implementation is correct, raise your hand and confirm your implementation with a TA. The `most_recent_total` function will be important for the project.\n",
    "\n",
    "## Segment 4: Operations on Dictionaries\n",
    "\n",
    "### Task 4.1 Find the max value in a dictionary\n",
    "Imagine that a dorm kept statistics on the number of noise complaint incidents in different years. Complete the following code to find the year with the highest number of incidents:\n",
    "\n",
    "*Hint*: How did you find the highest speed hurricane in p5 and lab-p5? Try to apply the same idea here."
   ]
  },
  {
   "cell_type": "code",
   "execution_count": null,
   "id": "7bce50b8",
   "metadata": {},
   "outputs": [],
   "source": [
    "#find the year with the most incidents\n",
    "incidents = {2017: 14, 2020: 18, 2018: 13, 2019: 16, 2021: 25, 2016: 10}"
   ]
  },
  {
   "cell_type": "markdown",
   "id": "3d7ac83c",
   "metadata": {},
   "source": [
    "### Task 4.2 Find the percentage of free throws made\n",
    "\n",
    "Consider the following example, where we have statistics about free throws for three basketball players. How can you calculate the percentage of free throws each player made? "
   ]
  },
  {
   "cell_type": "code",
   "execution_count": null,
   "id": "7aee5cae",
   "metadata": {},
   "outputs": [],
   "source": [
    "free_throws_made = {\"Jim\": 1, \"Annie\": 2, \"Fred\": 3}\n",
    "total_free_throws = {\"Jim\": 2, \"Annie\": 4, \"Fred\": 4}\n",
    "percentage_made = {}\n",
    "# TODO: fill in the percentage_made dictionary so that the keys are the player names\n",
    "# and the values are the percentage of free throws they made"
   ]
  },
  {
   "cell_type": "code",
   "execution_count": null,
   "id": "255b01ec",
   "metadata": {},
   "outputs": [],
   "source": [
    "# Test your implementation below:\n",
    "print(\"Expected: 0.5\\t Actual:\", percentage_made['Jim'])\n",
    "print(\"Expected: 0.5\\t Actual:\", percentage_made['Annie'])\n",
    "print(\"Expected: 0.75\\t Actual:\", percentage_made['Fred'])"
   ]
  },
  {
   "cell_type": "markdown",
   "id": "cc0b4d7c",
   "metadata": {},
   "source": [
    "## Great work! You are now ready to start P7.\n",
    "We have also provided some optional exercises below in case you want more practice with lists and dictionaries:\n",
    "\n",
    "## Optional Exercises\n",
    "\n",
    "### Dictionary from a list of Keys and a list of Values\n",
    "\n",
    "Create a dictionary that maps the English words in list `keys` to their corresponding Spanish translations in list `vals`:"
   ]
  },
  {
   "cell_type": "code",
   "execution_count": null,
   "id": "782803d7",
   "metadata": {},
   "outputs": [],
   "source": [
    "# dict from list of keys and values\n",
    "keys = [\"two\", \"zero\"]\n",
    "vals = [\"dos\", \"cero\"]\n",
    "english_to_spanish = {}\n",
    "# TODO: fill in the english_to_spanish dictionary so that the keys are english\n",
    "# words, and the values are the spanish translations"
   ]
  },
  {
   "cell_type": "markdown",
   "id": "c914d94f",
   "metadata": {},
   "source": [
    "The resulting dictionary containing the mapping from English to Spanish\n",
    "words should look like this:\n",
    "\n",
    "```python\n",
    "{'two': 'dos', 'zero': 'cero'}\n",
    "```\n",
    "\n",
    "Now lets try using your `english_to_spanish` dictionary to partially translate the following English sentence.\n",
    "Not exactly a replacement for Google translate just yet, but it's\n",
    "a good start..."
   ]
  },
  {
   "cell_type": "code",
   "execution_count": null,
   "id": "34650a60",
   "metadata": {},
   "outputs": [],
   "source": [
    "words = \"I love Comp Sci two two zero\".split(\" \")\n",
    "for i in range(len(words)):\n",
    "    default = words[i] # default is to not translate it\n",
    "    words[i] = english_to_spanish.get(words[i], default)\n",
    "\" \".join(words)"
   ]
  },
  {
   "cell_type": "markdown",
   "id": "ed564d55",
   "metadata": {},
   "source": [
    "*Question: What is the purpose of the 'default' variable?*\n",
    "\n",
    "*Question: What is the purpose of the line words[i] = english_to_spanish.get(words[i], default)?*"
   ]
  },
  {
   "cell_type": "markdown",
   "id": "6b6780fd",
   "metadata": {},
   "source": [
    "### Flipping Keys and Values\n",
    "\n",
    "What if we want a dictionary to convert from Spanish back to English?\n"
   ]
  },
  {
   "cell_type": "code",
   "execution_count": null,
   "id": "fe67f0f2",
   "metadata": {},
   "outputs": [],
   "source": [
    "# flipping keys and values\n",
    "spanish_to_english = {}\n",
    "# TODO: fill in spanish_to_english so that the keys are spanish \n",
    "# words and the values are the english translations.\n",
    "# Hint: You should only need to use your english_to_spanish dictionary,\n",
    "# and not the original keys and vals lists."
   ]
  },
  {
   "cell_type": "markdown",
   "id": "ff1a3fa8",
   "metadata": {},
   "source": [
    "Your spanish_to_english dictionary should look like this if you print it out:\n",
    "\n",
    "```python\n",
    "{ 'dos': 'two', 'cero': 'zero'}\n",
    "```"
   ]
  }
 ],
 "metadata": {
  "kernelspec": {
   "display_name": "Python 3 (ipykernel)",
   "language": "python",
   "name": "python3"
  },
  "language_info": {
   "codemirror_mode": {
    "name": "ipython",
    "version": 3
   },
   "file_extension": ".py",
   "mimetype": "text/x-python",
   "name": "python",
   "nbconvert_exporter": "python",
   "pygments_lexer": "ipython3",
   "version": "3.9.7"
  }
 },
 "nbformat": 4,
 "nbformat_minor": 5
}
