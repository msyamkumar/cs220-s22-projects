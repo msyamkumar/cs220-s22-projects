{
 "cells": [
  {
   "cell_type": "code",
   "execution_count": null,
   "id": "ba7e6f54-1a49-42eb-9670-76985e6ccb65",
   "metadata": {},
   "outputs": [],
   "source": [
    "## Please make sure \"project.py\" is in your \"lab5\" folder.\n",
    "## We will use the same API for both the lab and the project\n",
    "import project\n",
    "import datetime"
   ]
  },
  {
   "cell_type": "markdown",
   "id": "86bd2236-e241-4d99-97d0-977b1784a2fe",
   "metadata": {},
   "source": [
    "----------------------------------\n",
    "## Segment 2: Learning the API\n",
    "### Task 2.1: Examine the `hurricanes` CSV file\n",
    "\n",
    "The `project.py` file will allow you to access the dataset you'll use this week, `hurricanes.csv`. Start by looking at the hurricane dataset [here](https://github.com/msyamkumar/cs220-s22-projects/blob/main/lab-p5/hurricanes.csv) pulled from the [List of United States hurricanes](https://en.wikipedia.org/wiki/List_of_United_States_hurricanes) on Wikipedia.\n",
    "\n",
    "Look at a hurricane in the dataset, such as hurricane Baker, and briefly familiarize with each of the columns. The data shows:\n",
    "* name\n",
    "* the date of formation\n",
    "* the date of dissipation\n",
    "* max wind speed (in MPH)\n",
    "* damage (in US dollars)\n",
    "* deaths\n",
    "\n",
    "Often, we'll organize data by assigning numbers (called indexes) to different parts of the data (e.g., rows or columns in a table). In Computer Science, indexing typically starts with the number `0`; i.e., when you have a sequence of things, you'll start counting them from `0` instead of `1`. Thus, you should **ignore the numbers shown by GitHub to the left of the rows**. From the perspective of `project.py`, the indexes of Baker, Camille, and Eloise are 0, 1, and 2 respectively (and so on).\n",
    "\n",
    "For example, consider this example from `hurricanes.csv`:\n",
    "\n",
    "<img src=\"https://github.com/msyamkumar/cs220-s22-projects/raw/main/lab-p5/table.png\" width=\"240\" alt=\"Hurricanes outlined with position and name: 1: Baker, 2: Camille, 3: Eloise, 4: Frederic, 5: Elena\">\n",
    "\n",
    "The **index** for the Hurricane Eloise is 2 but its actual **location** is 3.\n",
    "Therefore, you must follow this convention for all the questions\n",
    "asking for the value at a particular index.\n"
   ]
  },
  {
   "cell_type": "markdown",
   "id": "497e2cdb",
   "metadata": {},
   "source": [
    "### Task 2.2: Explore the API\n",
    "Use the inspection process we learned in Lab-P3 and Lab-P4 to know more details of the 'project' API. In lab-p4, we saw how to use `dir`, and `help` to learn the API. Run the following in cells to explore the API:"
   ]
  },
  {
   "cell_type": "code",
   "execution_count": null,
   "id": "98c70d68-d464-4389-b611-6b8e935c1bfa",
   "metadata": {},
   "outputs": [],
   "source": [
    "dir(project)"
   ]
  },
  {
   "cell_type": "markdown",
   "id": "f396e763-f196-46ce-97e5-5a55a699bee8",
   "metadata": {},
   "source": [
    "Spend some time reading about each of the six functions that don't begin with two underscores. For example, run this to learn about `count`:"
   ]
  },
  {
   "cell_type": "code",
   "execution_count": null,
   "id": "7639d9e2-ea47-47c1-8d42-40e6381ccfaa",
   "metadata": {},
   "outputs": [],
   "source": [
    "help(project.count)"
   ]
  },
  {
   "cell_type": "markdown",
   "id": "fd1de2e2-0e4d-4a9a-8c68-ceac35d03d75",
   "metadata": {},
   "source": [
    "or alternatively, you could run the following to just see the function's documentation:"
   ]
  },
  {
   "cell_type": "code",
   "execution_count": null,
   "id": "4c4d19c5-ae7b-4ba6-a5d1-63a2af3093dd",
   "metadata": {},
   "outputs": [],
   "source": [
    "print(project.count.__doc__)"
   ]
  },
  {
   "cell_type": "markdown",
   "id": "8b68dc0e-bfd1-4ad0-aa57-66f7067be401",
   "metadata": {},
   "source": [
    "You may also open up the `project.py` file directly to learn about the functions provided. E.g., you might see this:\n",
    "\n",
    "```python\n",
    "def count():\n",
    "    \"\"\"This function will return the number of records in the dataset\"\"\"\n",
    "    return len(__hurricane__)\n",
    "```\n",
    "\n",
    "You don't need to understand the code in the functions, but the strings in triple quotes (called *docstrings*) explain what each function does. As it turns out, all `project.count.__doc__` is providing you the docstring for the `count` function.\n",
    "\n",
    "Try to learn other functions in `project.py`, by using `help` function. For example, you may try: \n"
   ]
  },
  {
   "cell_type": "code",
   "execution_count": null,
   "id": "eec4b9f8-cb6b-49ce-b32a-714eb137e3da",
   "metadata": {},
   "outputs": [],
   "source": [
    "help(project.get_name)"
   ]
  },
  {
   "cell_type": "code",
   "execution_count": null,
   "id": "1d1241a2-bad8-45de-bc52-884d74d2fb1b",
   "metadata": {},
   "outputs": [],
   "source": [
    "# TODO: Try getting help for each of the functions."
   ]
  },
  {
   "cell_type": "markdown",
   "id": "9897e54c-5ab0-4681-9982-f288feaea56b",
   "metadata": {},
   "source": [
    "Complete the following TODOs, and check your results against what you see in `hurricanes.csv`.\n",
    "\n",
    "**Remember:** In Computer Science, we start indexing at 0. GitHub will start indexing at 2 (the row following the header row), ignore this."
   ]
  },
  {
   "cell_type": "code",
   "execution_count": null,
   "id": "55fb64c1-678c-459a-99b7-2f52b70a5daa",
   "metadata": {},
   "outputs": [],
   "source": [
    "# Get the name of the hurricane at index 0.\n",
    "# This one is done for you.\n",
    "project.get_name(0)"
   ]
  },
  {
   "cell_type": "code",
   "execution_count": null,
   "id": "55c92e8a-d515-463e-86e5-71f51315f3d0",
   "metadata": {},
   "outputs": [],
   "source": [
    "# TODO: Get the name of the hurricane at index 1.\n",
    "# Your answer should be 'Camille'. Verify this in the CSV as well.\n"
   ]
  },
  {
   "cell_type": "code",
   "execution_count": null,
   "id": "f4c9ca4b-4ff4-4fc2-a426-d71bf41f43e2",
   "metadata": {},
   "outputs": [],
   "source": [
    "# Get the wind speed of the hurricane at index 2.\n",
    "# This one is done for you.\n",
    "project.get_mph(2)"
   ]
  },
  {
   "cell_type": "code",
   "execution_count": null,
   "id": "fc71408c-d50b-4091-ac31-fda532e669b3",
   "metadata": {},
   "outputs": [],
   "source": [
    "# TODO: Get the wind speed of the hurricane at index 7.\n"
   ]
  },
  {
   "cell_type": "code",
   "execution_count": null,
   "id": "be9408e1-b39f-4b2e-91d8-aadecf80ee6c",
   "metadata": {},
   "outputs": [],
   "source": [
    "# TODO: Get the damage of the hurricane at index 5.\n"
   ]
  },
  {
   "cell_type": "markdown",
   "id": "38a2eaab-2165-4343-aa12-c48c20acb223",
   "metadata": {},
   "source": [
    "Notice that the damage amount ends a \"B\". In this dataset, \"K\" represents one thousand, \"M\" represents one million, and \"B\" represents one billion. For P5, you'll need to convert these strings to the appropriate ints (e.g., `\"1.5K\"` will become `1500`, `\"2.55M\"` will become `2550000`)."
   ]
  },
  {
   "cell_type": "code",
   "execution_count": null,
   "id": "134a4959-0ff4-4826-8e55-f2263e306f26",
   "metadata": {},
   "outputs": [],
   "source": [
    "# Get the name of the hurricane at the end of the dataset.\n",
    "# This one is done for you.\n",
    "project.get_name(project.count() - 1)"
   ]
  },
  {
   "cell_type": "code",
   "execution_count": null,
   "id": "c87b3fa5",
   "metadata": {},
   "outputs": [],
   "source": [
    "# Try getting the name at project.count() instead. What happens? Why?\n"
   ]
  },
  {
   "cell_type": "markdown",
   "id": "f2ac51fa-ff0a-434f-8c2e-e40e6476f0fa",
   "metadata": {},
   "source": [
    "----------------------------------\n",
    "## Segment 3: Working with strings"
   ]
  },
  {
   "cell_type": "markdown",
   "id": "38756d68",
   "metadata": {},
   "source": [
    "### Task 3.1: Indexing / slicing Strings\n",
    "\n",
    "Stepping back from the Hurricane data, Tasks 3.1 and 3.2 introduce us to performing operations with strings. While this will be covered in more detail during Friday's lecture, we will cover the essentials now.\n",
    "\n",
    "We can think of a string as a sequence of characters. For example, the string `my_str = 'hello_world!'` can be written as...\n",
    "\n",
    "| Index  | 0    | 1    | 2    | 3    | 4    | 5    | 6    | 7    | 8    | 9    | 10   | 11   |\n",
    "| ------ | ---- | ---- | ---- | ---- | ---- | ---- | ---- | ---- | ---- | ---- | ---- | ---- |\n",
    "| String | h    | e    | l    | l    | o    | _    | w    | o    | r    | l    | d    | !    |\n",
    "\n",
    "... where we can then access specific characters of the string by an index, e.g. `my_str[0]` which returns `'h'` or `my_str[8]` which returns `'r'`.\n",
    "\n",
    "Furthermore, we can \"slice\" strings -- that is, get a particular section of characters. For example,\n",
    "\n",
    "- `my_str[1:5]` returns `'ello'`\n",
    "- `my_str[:8]` returns `'hello_wo'`\n",
    "- `my_str[5:]` returns `'_world!'`\n",
    "- `my_str[:]` returns `'hello_world!'`\n",
    "\n",
    "Try running this in the cell below."
   ]
  },
  {
   "cell_type": "code",
   "execution_count": null,
   "id": "cfaa8a24",
   "metadata": {},
   "outputs": [],
   "source": [
    "my_str = 'hello_world!'\n",
    "print(\"my_str[0] returns\", my_str[0])\n",
    "print(\"my_str[8] returns\", my_str[8])\n",
    "print(\"my_str[1:5] returns\", my_str[1:5])\n",
    "print(\"my_str[:8] returns\", my_str[:8])\n",
    "print(\"my_str[5:] returns\", my_str[5:])\n",
    "print(\"my_str[:] returns\", my_str[:])"
   ]
  },
  {
   "cell_type": "markdown",
   "id": "7319eb8c",
   "metadata": {},
   "source": [
    "Notice that slicing is *inclusive* on the lower bound and *exclusive* on the upper bound. We can also leave out a bound to start from the beginning (e.g. `my_str[:6]`) or the end (e.g. `my_str[8:]`). Lastly, a negative index will count *backwards* from the *end* of the string."
   ]
  },
  {
   "cell_type": "code",
   "execution_count": null,
   "id": "cc68f988",
   "metadata": {},
   "outputs": [],
   "source": [
    "print(\"my_str[-1] returns\", my_str[-1])\n",
    "print(\"my_str[-4:-1] returns\", my_str[-4:-1])"
   ]
  },
  {
   "cell_type": "markdown",
   "id": "b4841367",
   "metadata": {},
   "source": [
    "**Your Turn!** Try slicing the below phone number! Can you extract the area code (first 3 digits), exchange code (middle 3 digits), and line number (last 4 digits) of the given phone number?"
   ]
  },
  {
   "cell_type": "code",
   "execution_count": null,
   "id": "a55bbfff",
   "metadata": {},
   "outputs": [],
   "source": [
    "phone_number = \"608-555-1234\"\n",
    "area_code = ???\n",
    "exchange_code = ???\n",
    "line_number = ???\n",
    "print(\"area_code:\", area_code)\n",
    "print(\"exchange_code:\", exchange_code)\n",
    "print(\"line_number:\", line_number)"
   ]
  },
  {
   "cell_type": "code",
   "execution_count": null,
   "id": "32d3afc4",
   "metadata": {},
   "outputs": [],
   "source": [
    "# TODO: use slicing to extract just the last digit of the phone number\n",
    "last_digit = ???\n",
    "print(\"last digit:\", last_digit)"
   ]
  },
  {
   "cell_type": "markdown",
   "id": "c89bdf6e",
   "metadata": {},
   "source": [
    "### Task 3.2 Case-Sensitivity\n",
    "\n",
    "Other helpful string functions include `upper` and `lower`. `upper` converts a string to all UPPERCASE letters, while `lower` converts a string to all lowercase letters."
   ]
  },
  {
   "cell_type": "code",
   "execution_count": null,
   "id": "39013e4d",
   "metadata": {},
   "outputs": [],
   "source": [
    "print('helLO wOrLd'.upper())\n",
    "print('helLO wOrLd'.lower())"
   ]
  },
  {
   "cell_type": "markdown",
   "id": "75f63854",
   "metadata": {},
   "source": [
    "If we want to see if the user typed in `cs220`, we should also accept `cS220`, `Cs220`, and `CS220`. We can use `upper` or `lower` to do that! "
   ]
  },
  {
   "cell_type": "code",
   "execution_count": null,
   "id": "53c594a6",
   "metadata": {},
   "outputs": [],
   "source": [
    "my_class = input(\"What class are you in? \")\n",
    "if my_class.upper() == \"CS220\": # notice we compare this to an uppercase CS220\n",
    "    print(\"Right on!\")\n",
    "else:\n",
    "    print(\"That must be some other class...\")"
   ]
  },
  {
   "cell_type": "markdown",
   "id": "5a1f5577",
   "metadata": {},
   "source": [
    "**Your Turn!** Ask the user to type in their name. If their name matches your name, tell them so!  **This should be case-insensitive.**"
   ]
  },
  {
   "cell_type": "code",
   "execution_count": null,
   "id": "52e766eb",
   "metadata": {},
   "outputs": [],
   "source": [
    "my_name = input(\"What's your name? \")\n",
    "if my_name.lower() == \"franklin\": # TODO: Check if they typed in your name! Use all lowercase.\n",
    "    print(\"We share names!\")\n",
    "else:\n",
    "    print(\"Oh well...\")"
   ]
  },
  {
   "cell_type": "markdown",
   "id": "0529a58e",
   "metadata": {},
   "source": [
    "### Task 3.3: Calculating Damage Costs"
   ]
  },
  {
   "cell_type": "markdown",
   "id": "ea691d8e",
   "metadata": {},
   "source": [
    "Task 2.2 showed us that damage costs are calculated in thousands, millions, and billions. It would be helpful to have code that converts this string into an integer.\n",
    "\n",
    "We can slice off the *last* character by using the index `:-1` (that is the entire string *up to* the last character).\n",
    "\n",
    "Complete the code to print what the cost ends in (e.g. `K`, `M`, or `B`)."
   ]
  },
  {
   "cell_type": "code",
   "execution_count": null,
   "id": "3ed13461",
   "metadata": {},
   "outputs": [],
   "source": [
    "my_cost = \"3.3B\"\n",
    "print(\"Cost Amount:\", my_cost[:-1])\n",
    "print(\"Ending In:  \", ???)"
   ]
  },
  {
   "cell_type": "markdown",
   "id": "89a8f7bf",
   "metadata": {},
   "source": [
    "### Task 3.4: Extracting from a Date\n",
    "\n",
    "Run the below cell which prints the formation and dissipation date of the first hurricane."
   ]
  },
  {
   "cell_type": "code",
   "execution_count": null,
   "id": "ece79345",
   "metadata": {},
   "outputs": [],
   "source": [
    "print(project.get_formed(0))\n",
    "print(project.get_dissipated(0))"
   ]
  },
  {
   "cell_type": "markdown",
   "id": "f4c5cc97",
   "metadata": {},
   "source": [
    "The dates are represented as a string in `mm/dd/yyyy` notation. Two digits are used to represent the month and day even when they can be represented with a single digit, that is, `'9/1/1950'` is represented as `'09/01/1950'`.\n",
    "\n",
    "To extract the month, we could run the following code..."
   ]
  },
  {
   "cell_type": "code",
   "execution_count": null,
   "id": "425e901d",
   "metadata": {},
   "outputs": [],
   "source": [
    "project.get_formed(0)[:2]"
   ]
  },
  {
   "cell_type": "markdown",
   "id": "de4d2a52",
   "metadata": {},
   "source": [
    "Notice, however, that this is the *string* `'08'`.\n",
    "\n",
    "Write the code to get this as the *int* (e.g. `8`)."
   ]
  },
  {
   "cell_type": "code",
   "execution_count": null,
   "id": "510b89a1",
   "metadata": {},
   "outputs": [],
   "source": [
    "# TODO: Get the month of the first hurricane as an integer."
   ]
  },
  {
   "cell_type": "markdown",
   "id": "868d4b8c",
   "metadata": {},
   "source": [
    "### Task 3.5: Helper Functions for Month, Day, and Year\n",
    "\n",
    "The below functions will be useful in p5. Complete the TODOs for getting the month, day, and year as an int."
   ]
  },
  {
   "cell_type": "code",
   "execution_count": null,
   "id": "1b18d8e1",
   "metadata": {},
   "outputs": [],
   "source": [
    "def get_month(date):\n",
    "    \"\"\"Returns the month when the date is the in the 'mm/dd/yyyy' format\"\"\"\n",
    "    return int(date[:2])\n",
    "\n",
    "def get_day(date):\n",
    "    \"\"\"Returns the day when the date is the in the 'mm/dd/yyyy' format\"\"\"\n",
    "    pass  # TODO: Use string slicing to return the day\n",
    "\n",
    "def get_year(date):\n",
    "    \"\"\"Returns the year when the date is the in the 'mm/dd/yyyy' format\"\"\"\n",
    "    pass  # TODO: Use string slicing to return the year"
   ]
  },
  {
   "cell_type": "markdown",
   "id": "d939eb32",
   "metadata": {},
   "source": [
    "Write some test cases (e.g., `get_year(\"10/02/2022\")`) to check if your functions are correct."
   ]
  },
  {
   "cell_type": "code",
   "execution_count": null,
   "id": "c4c190ce",
   "metadata": {},
   "outputs": [],
   "source": [
    "# TODO Write a test case for get_month\n",
    "\n",
    "# TODO Write a test case for get_day\n",
    "\n",
    "# TODO Write a test case for get_year\n"
   ]
  },
  {
   "cell_type": "markdown",
   "id": "9a6e4ab0",
   "metadata": {},
   "source": [
    "### Task 3.6: Using Helper Functions\n",
    "\n",
    "Using the helper functions you made above, complete the following...\n",
    "\n",
    "**Hint:** You'll use these helper functions in combination with `project.get_formed(idx)` and `project.get_dissipated(idx)`!"
   ]
  },
  {
   "cell_type": "markdown",
   "id": "821acf4f",
   "metadata": {},
   "source": [
    "Print the *day* that the hurricane at index `10` *formed*."
   ]
  },
  {
   "cell_type": "code",
   "execution_count": null,
   "id": "671ea14e",
   "metadata": {},
   "outputs": [],
   "source": [
    "# TODO: Print the day that the hurricane at index 10 formed.\n",
    "#       This should be 7\n",
    "???(project.get_formed(???))"
   ]
  },
  {
   "cell_type": "markdown",
   "id": "03e570fd",
   "metadata": {},
   "source": [
    "Print the *year* that the hurricane at index `7` *formed*."
   ]
  },
  {
   "cell_type": "code",
   "execution_count": null,
   "id": "acd08955",
   "metadata": {},
   "outputs": [],
   "source": [
    "# TODO: Print the year that the hurricane at index 7 formed.\n",
    "#       This should be 2004"
   ]
  },
  {
   "cell_type": "markdown",
   "id": "832ac84e",
   "metadata": {},
   "source": [
    "Print the *month* that the hurricane at index `2` *dissipated*."
   ]
  },
  {
   "cell_type": "code",
   "execution_count": null,
   "id": "9562f391",
   "metadata": {},
   "outputs": [],
   "source": [
    "# TODO: Print the month that the hurricane at index 2 dissipated.\n",
    "#       This should be 9"
   ]
  },
  {
   "cell_type": "markdown",
   "id": "6cfd8eb1",
   "metadata": {},
   "source": [
    "----------------------------------\n",
    "## Segment 4: Looping"
   ]
  },
  {
   "cell_type": "markdown",
   "id": "fc0e5794",
   "metadata": {},
   "source": [
    "### Task 4.1: `while` and `for` loops\n",
    "\n",
    "Run the below code and observe the output."
   ]
  },
  {
   "cell_type": "code",
   "execution_count": null,
   "id": "6f4ff12e-2142-4fc7-b7e0-dc54ec0a641a",
   "metadata": {},
   "outputs": [],
   "source": [
    "i = 0\n",
    "while i < 5:\n",
    "    print(i)\n",
    "    i += 1"
   ]
  },
  {
   "cell_type": "markdown",
   "id": "1c6ff122-f8b3-4909-acd3-269a60756464",
   "metadata": {},
   "source": [
    "Equivalently, we can use `for` and `range(n)`. The `range(n)` function returns a sequence of numbers, from `0` to `n` but not including `n`."
   ]
  },
  {
   "cell_type": "code",
   "execution_count": null,
   "id": "3cb57adb-af1a-4c16-affb-4744d626da41",
   "metadata": {},
   "outputs": [],
   "source": [
    "for i in range(5):\n",
    "    print(i)"
   ]
  },
  {
   "cell_type": "markdown",
   "id": "a29c53a1",
   "metadata": {},
   "source": [
    "Now, write the code that will print the numbers from 0 to 25 *inclusive* as both a `while` and `for` loop."
   ]
  },
  {
   "cell_type": "code",
   "execution_count": null,
   "id": "9192111e",
   "metadata": {},
   "outputs": [],
   "source": [
    "# TODO Write a while loop that prints the numbers from 0 to 25 inclusive."
   ]
  },
  {
   "cell_type": "code",
   "execution_count": null,
   "id": "ba9ce950",
   "metadata": {},
   "outputs": [],
   "source": [
    "# TODO Write a for loop that prints the numbers from 0 to 25 inclusive."
   ]
  },
  {
   "cell_type": "markdown",
   "id": "f5359d22",
   "metadata": {},
   "source": [
    "### Task 4.2: Print Hurricane Data\n",
    "\n",
    "Print the index, name, and wind speed of each hurricane. Your output should show all the entries in the dataset."
   ]
  },
  {
   "cell_type": "code",
   "execution_count": null,
   "id": "3de665a3-f733-4acf-a1e5-18e836d4453f",
   "metadata": {},
   "outputs": [],
   "source": [
    "# range takes in a number. We want to iterate over all entries.\n",
    "# how do we get the number of entries without hardcoding it?\n",
    "for idx in range(???):\n",
    "    name = ???\n",
    "    wind_speed = ???\n",
    "    print(idx, name, wind_speed, sep='\\t')"
   ]
  },
  {
   "cell_type": "markdown",
   "id": "7f84f562-89f3-49d3-bd9a-b70f10d11d2f",
   "metadata": {},
   "source": [
    "### Task 4.3: Filter Hurricanes by Speed\n",
    "\n",
    "Print the names of all hurricanes with a speed under 80mph. There are 8 such hurricanes."
   ]
  },
  {
   "cell_type": "code",
   "execution_count": null,
   "id": "26e575ac-4dc5-49de-a6d8-abe9a5cb2ea6",
   "metadata": {},
   "outputs": [],
   "source": [
    "# TODO: Print the names of all hurricanes with a speed under 80mph."
   ]
  },
  {
   "cell_type": "markdown",
   "id": "774aefcd-f260-4554-a1fc-02076458ccb7",
   "metadata": {},
   "source": [
    "### Task 4.4: Filter Hurricanes by Deaths\n",
    "\n",
    "Print the names of all hurricanes with over 1000 deaths. There are 5 such hurricanes."
   ]
  },
  {
   "cell_type": "code",
   "execution_count": null,
   "id": "652b3f89-4ad1-44a2-bbbc-b21fea7009cf",
   "metadata": {},
   "outputs": [],
   "source": [
    "# Print the names of all hurricanes with over 1000 deaths."
   ]
  },
  {
   "cell_type": "markdown",
   "id": "52d6950b-8d6a-4a13-a516-3614b7884ed8",
   "metadata": {},
   "source": [
    "### Task 4.5: Filter Hurricanes by Name\n",
    "\n",
    "Print the names of all hurricanes that start with letter \"D\"."
   ]
  },
  {
   "cell_type": "code",
   "execution_count": null,
   "id": "5ffb3cb6-f420-4653-8ef4-bb5140c19114",
   "metadata": {},
   "outputs": [],
   "source": [
    "# Print the names of all hurricanes that start with letter \"D\". There are 12 such hurricanes, counting repeats."
   ]
  },
  {
   "cell_type": "markdown",
   "id": "e0a161cd-1012-4a92-b6b1-9f0095991720",
   "metadata": {},
   "source": [
    "### Task 4.6: Find the Fastest Hurricane\n",
    "\n",
    "Print the name of the hurricane which has the fastest wind speed.\n",
    "\n",
    "*Special Note*: `None` is a Python keyword which denotes *nothing*. At the beginning of this loop, by saying `fastest_hurr_idx = None`, we make no assumptions about what the fastest hurricane is. Inside the loop, if the `fastest_hurr_idx` is `None`, we know that is our first (and currently fastest) hurricane."
   ]
  },
  {
   "cell_type": "code",
   "execution_count": null,
   "id": "02eb02f0-34b1-4d6a-b2d0-13ce09241cc3",
   "metadata": {},
   "outputs": [],
   "source": [
    "fastest_hurr_idx = None\n",
    "max_speed = 0\n",
    "for idx in range(???):\n",
    "    current_speed = ???\n",
    "    if fastest_hurr_idx == None or current_speed > max_speed:\n",
    "        max_speed = ???\n",
    "        fastest_hurr_idx = idx\n",
    "\n",
    "if fastest_hurr_idx != None:\n",
    "    print(project.get_name(fastest_hurr_idx), 'had the fastest speed of', max_speed)"
   ]
  },
  {
   "cell_type": "markdown",
   "id": "547c7fda-c660-4ddb-a708-dc10a8b7b8d3",
   "metadata": {},
   "source": [
    "### Task 4.7: Find the Slowest Hurricane\n",
    "\n",
    "Print the name of the hurricane which has the slowest wind speed."
   ]
  },
  {
   "cell_type": "code",
   "execution_count": null,
   "id": "05cc4ff6-c0a3-468a-9ee8-6d04cb91682a",
   "metadata": {},
   "outputs": [],
   "source": [
    "slowest_hurr_idx = None\n",
    "min_speed = 0\n",
    "for idx in range(???):\n",
    "    current_speed = ???\n",
    "    if ??? or ???:\n",
    "        min_speed = ???\n",
    "        slowest_hurr_idx = ???\n",
    "\n",
    "if slowest_hurr_idx != None:\n",
    "    print(project.get_name(slowest_hurr_idx), 'had the slowest speed of', min_speed)"
   ]
  },
  {
   "cell_type": "markdown",
   "id": "898f5290",
   "metadata": {},
   "source": [
    "### Task 4.8: Print Hurricanes Between\n",
    "\n",
    "Given `start_year` and `end_year`, print the names of all hurricanes that *were formed* in between (inclusive)."
   ]
  },
  {
   "cell_type": "code",
   "execution_count": null,
   "id": "b746eeae",
   "metadata": {},
   "outputs": [],
   "source": [
    "def print_hurricanes_between(start_year, end_year):\n",
    "     for i in range(project.count()):\n",
    "        # TODO: Check if the year the hurricane formed is in range.\n",
    "        # HINT: use get_year to get the year of the current hurricane\n",
    "        if ???:  \n",
    "            print(project.get_name(i), \"happened on\", project.get_formed(i))\n",
    "\n",
    "print_hurricanes_between(2017, 2021)"
   ]
  },
  {
   "cell_type": "markdown",
   "id": "759dca15-b9a4-4d67-ac49-50def30e873a",
   "metadata": {},
   "source": [
    "----------------------------------\n",
    "## Segment 5: Working with the datetime module\n",
    "\n",
    "The code below uses Python's [datetime module](https://docs.python.org/3/library/datetime.html), which will be used further in p5.\n",
    "\n",
    "Execute the below function definition and its calls. It will calculate the number of days between 2 dates."
   ]
  },
  {
   "cell_type": "code",
   "execution_count": null,
   "id": "e75c622b-f5bb-4e5f-9253-8631aa5d025e",
   "metadata": {},
   "outputs": [],
   "source": [
    "def get_number_of_days(start_date, end_date):\n",
    "    \"\"\"Gets the number of days between the start_date (in 'mm/dd/yyyy' format) and end_date \n",
    "    (in 'mm/dd/yyyy' format)\"\"\"\n",
    "    # The second argument is a format string to tell the function how to process the date string\n",
    "    day1 = datetime.datetime.strptime(start_date, '%m/%d/%Y') \n",
    "    day2 = datetime.datetime.strptime(end_date, '%m/%d/%Y')\n",
    "    delta = day2 - day1\n",
    "    return delta.days"
   ]
  },
  {
   "cell_type": "code",
   "execution_count": null,
   "id": "9bdabb5d",
   "metadata": {},
   "outputs": [],
   "source": [
    "print(get_number_of_days('02/21/2022', '02/23/2022'))\n",
    "print(get_number_of_days('01/01/2021', '01/01/2022'))\n",
    "print(get_number_of_days('04/20/2022', '08/12/2022'))"
   ]
  },
  {
   "cell_type": "markdown",
   "id": "68806ee7-1bea-4153-b8a6-8b99bee579c3",
   "metadata": {},
   "source": [
    "The function `get_number_of_days` uses the `datetime` module to calculate this for us with 2 steps:\n",
    "\n",
    "1. Convert the dates into a datetime object (we'll talk about objects later in the semester) using `datetime.datetime.strptime`.\n",
    "\n",
    "2. Subtract the objects `day2 - day1` and return the difference in days `delta.days`."
   ]
  },
  {
   "cell_type": "markdown",
   "id": "3b6dc4f8",
   "metadata": {},
   "source": [
    "### Task 5.1: Calculating Hurricane Duration\n",
    "\n",
    "We can calculate how long a hurricane lasts as the number of days between `project.get_formed(idx)` and `project.get_dissipated(idx)`. Complete the function to calculate this duration."
   ]
  },
  {
   "cell_type": "code",
   "execution_count": null,
   "id": "d8e94aca-39dc-46e3-af2d-6c633b07a6f7",
   "metadata": {},
   "outputs": [],
   "source": [
    "def get_hurricane_duration(hurricane_idx):\n",
    "    # Calculate the duration between when the hurricane formed and dissipated.\n",
    "    duration = get_number_of_days(???, ???)\n",
    "    return duration"
   ]
  },
  {
   "cell_type": "markdown",
   "id": "71b2289f",
   "metadata": {},
   "source": [
    "Test your code using the below. Hurricane Karen should last 11 days and Hurricane Cindy should last 6 days."
   ]
  },
  {
   "cell_type": "code",
   "execution_count": null,
   "id": "d107d80b",
   "metadata": {},
   "outputs": [],
   "source": [
    "# Hurricane Karen\n",
    "hurricane1_idx = 118\n",
    "hurricane1_name = project.get_name(hurricane1_idx)\n",
    "hurricane1_duration = get_hurricane_duration(hurricane1_idx)\n",
    "print(hurricane1_name, 'lasts', hurricane1_duration, 'days.')"
   ]
  },
  {
   "cell_type": "code",
   "execution_count": null,
   "id": "908d2679",
   "metadata": {},
   "outputs": [],
   "source": [
    "# Hurricane Cindy\n",
    "hurricane2_idx = 90\n",
    "hurricane2_name = project.get_name(hurricane2_idx)\n",
    "hurricane2_duration = get_hurricane_duration(hurricane2_idx)\n",
    "print(hurricane2_name, 'lasts', hurricane2_duration, 'days.')"
   ]
  },
  {
   "cell_type": "markdown",
   "id": "6bc98eac-49f4-44b7-b1fa-ee3d0bc75652",
   "metadata": {},
   "source": [
    "### Task 5.2: Finding Hurricane with Longest Duration\n",
    "\n",
    "Using an algorithm similar to Task 4.6 or 4.7, find the hurricane that has the longest duration."
   ]
  },
  {
   "cell_type": "code",
   "execution_count": null,
   "id": "94090b02-5834-4e00-a70f-10dc33bddc73",
   "metadata": {},
   "outputs": [],
   "source": [
    "# TODO: Use an algorithim similar to 4.6 or 4.7.\n",
    "# HINT: Use the get_hurricane_duration function used in 5.1!"
   ]
  },
  {
   "cell_type": "markdown",
   "id": "d8cd2f4b-6fb7-4ff2-aa60-0fec04be5243",
   "metadata": {},
   "source": [
    "----------------------------------\n",
    "You are now ready to work on [p5](https://github.com/msyamkumar/cs220-s22-projects/tree/main/p5)!\n",
    "Remember to only work with p5 with your partner from this point on. Have fun!"
   ]
  }
 ],
 "metadata": {
  "kernelspec": {
   "display_name": "Python 3 (ipykernel)",
   "language": "python",
   "name": "python3"
  },
  "language_info": {
   "codemirror_mode": {
    "name": "ipython",
    "version": 3
   },
   "file_extension": ".py",
   "mimetype": "text/x-python",
   "name": "python",
   "nbconvert_exporter": "python",
   "pygments_lexer": "ipython3",
   "version": "3.9.7"
  }
 },
 "nbformat": 4,
 "nbformat_minor": 5
}
