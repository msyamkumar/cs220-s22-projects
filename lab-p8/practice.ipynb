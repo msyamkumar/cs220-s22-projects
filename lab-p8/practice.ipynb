{
 "cells": [
  {
   "cell_type": "markdown",
   "id": "57130c7f-c6aa-431b-9a25-39b12a93591e",
   "metadata": {},
   "source": [
    "# Lab-P8: Going to the Movies"
   ]
  },
  {
   "cell_type": "markdown",
   "id": "89c4d8a7",
   "metadata": {},
   "source": [
    "#### Please make sure \"small_movies.csv\" and \"small_mapping.csv\" are in your \"lab8\" folder."
   ]
  },
  {
   "cell_type": "code",
   "execution_count": null,
   "id": "fe7a7f47-becf-40ef-91dd-cba4cbe50b64",
   "metadata": {},
   "outputs": [],
   "source": [
    "# TODO: import csv and copy modules\n"
   ]
  },
  {
   "cell_type": "markdown",
   "id": "ce4bd078-ba3a-4a09-8e87-823931e5610b",
   "metadata": {},
   "source": [
    "## Segment 2: Loading data from csv file"
   ]
  },
  {
   "cell_type": "markdown",
   "id": "fb04198a-253d-4653-8622-8ffb556801ef",
   "metadata": {},
   "source": [
    "### Task 2.1: Process the `small_movies`\n",
    "[Chapter 14](https://automatetheboringstuff.com/chapter14/) of Automate the Boring Stuff introduces CSV files and provides a code snippet we can reuse. Run this cell to load the data."
   ]
  },
  {
   "cell_type": "code",
   "execution_count": null,
   "id": "90d772f2-0208-4bbf-862a-d9d28712ac72",
   "metadata": {},
   "outputs": [],
   "source": [
    "def process_csv(filename):\n",
    "    example_file = open(filename, encoding=\"utf-8\")\n",
    "    example_reader = csv.reader(example_file)\n",
    "    example_data = list(example_reader)\n",
    "    example_file.close()\n",
    "    return example_data\n",
    "\n",
    "# TODO: Read data from small_movies.csv\"\n",
    "\n",
    "# TODO: extract the header into csv_header variable\n",
    "\n",
    "# TODO: extract just the data rows into csv_data variable\n"
   ]
  },
  {
   "cell_type": "code",
   "execution_count": null,
   "id": "44e96228-2644-47b1-89a6-0117d69991e7",
   "metadata": {},
   "outputs": [],
   "source": []
  },
  {
   "cell_type": "code",
   "execution_count": null,
   "id": "0ea5daec-08de-4478-a42b-6d980c4cfea1",
   "metadata": {},
   "outputs": [],
   "source": [
    "# Question: What are the names of the columns in the dataset?\n",
    "\n",
    "# Expected: ['title', 'year', 'genres', 'duration', 'directors', 'actors', 'rating']\n"
   ]
  },
  {
   "cell_type": "code",
   "execution_count": null,
   "id": "2a6aee62-769a-4d3b-852b-1804f08f8f09",
   "metadata": {},
   "outputs": [],
   "source": [
    "# Question: How many rows of data (excluding header) are present in the dataset?\n",
    "\n",
    "# Expected: 2\n"
   ]
  },
  {
   "cell_type": "markdown",
   "id": "e5123fe8-d88d-4dd8-8311-06e4c05183a4",
   "metadata": {},
   "source": [
    "### Task 2.2: Convert your `small_mapping` to a dictionary"
   ]
  },
  {
   "cell_type": "markdown",
   "id": "4b4bb459",
   "metadata": {},
   "source": [
    "Expected output for the next cell:\n",
    "```python\n",
    "[['tt3104988', 'Crazy Rich Asians'],\n",
    " ['nm0160840', 'Jon M. Chu'],\n",
    " ['nm2090422', 'Constance Wu'],\n",
    " ['nm6525901', 'Henry Golding'],\n",
    " ['nm0000706', 'Michelle Yeoh'],\n",
    " ['nm2110418', 'Gemma Chan'],\n",
    " ['nm0523734', 'Lisa Lu'],\n",
    " ['tt4846340', 'Hidden Figures'],\n",
    " ['nm0577647', 'Theodore Melfi'],\n",
    " ['nm0378245', 'Taraji P. Henson'],\n",
    " ['nm0818055', 'Octavia Spencer'],\n",
    " ['nm1847117', 'Janelle Monáe']]\n",
    "```"
   ]
  },
  {
   "cell_type": "code",
   "execution_count": null,
   "id": "a307459d-73f8-4dfb-a63e-0f5aaa070b25",
   "metadata": {},
   "outputs": [],
   "source": [
    "# Use process_csv to read `small_mapping.csv` into a list of lists data structure\n",
    "# Note: There is no header in `small_mapping.csv`\n",
    "\n",
    "mapping_rows = ???\n",
    "mapping_rows"
   ]
  },
  {
   "cell_type": "markdown",
   "id": "181bc0ad-9a6e-489c-837d-c74246a91e19",
   "metadata": {},
   "source": [
    "Currently `mapping_rows` is a list of lists.  Lets convert it to a dictionary with the ID as the key and the name as the value, like this:\n",
    "\n",
    "```python\n",
    "{'tt3104988':'Crazy Rich Asians',\n",
    "'nm0160840': 'Jon M. Chu',\n",
    "'nm2090422': 'Constance Wu',\n",
    "'nm6525901': 'Henry Golding',\n",
    "'nm0000706': 'Michelle Yeoh',\n",
    "'nm2110418': 'Gemma Chan',\n",
    "'nm0523734': 'Lisa Lu',\n",
    "'tt4846340': 'Hidden Figures',\n",
    "'nm0577647': 'Theodore Melfi',\n",
    "'nm0378245': 'Taraji P. Henson',\n",
    "'nm0818055': 'Octavia Spencer',\n",
    "'nm1847117': 'Janelle Monáe'}\n",
    "```"
   ]
  },
  {
   "cell_type": "code",
   "execution_count": null,
   "id": "87299046-4dea-4624-ab76-8f89c1fa1a0a",
   "metadata": {},
   "outputs": [],
   "source": [
    "# TODO: initialize an empty dictionary into the variable mapping_dict #key: IDs, value: name\n",
    "\n",
    "# TODO: iterate over the small_mapping dataset.\n",
    "\n",
    "    # TODO: extract the column values and map the key to the corresponding value based on the above output\n",
    "    # It is acceptable for you to hardcode column indices here. This is because this csv file does not \n",
    "    # have a header\n",
    "    # For csv files which have headers, you should never hardcode column indices\n",
    "\n",
    "    # TODO: insert the key-value pair into mapping_dict\n",
    "\n",
    "# TODO: display mapping_dict"
   ]
  },
  {
   "cell_type": "code",
   "execution_count": null,
   "id": "c28739ef-fce4-4101-99c3-6e8bcfa9e509",
   "metadata": {},
   "outputs": [],
   "source": [
    "# What is the value associated with the key \"nm0160840\"?\n",
    "# Test your implementation here:\n",
    "\n",
    "print(\"Expected: Jon M. Chu\\t Actual:\", ???)"
   ]
  },
  {
   "cell_type": "code",
   "execution_count": null,
   "id": "855ec137-6f80-465b-8236-6b7fba61f13a",
   "metadata": {},
   "outputs": [],
   "source": [
    "# What is the value associated with the key \"tt4846340\"?\n",
    "# Test your implementation here:\n",
    "\n",
    "print(\"Expected: Hidden Figures\\t Actual:\", ???)"
   ]
  },
  {
   "cell_type": "markdown",
   "id": "929ad62a-ef63-4dc5-814f-45af1cee483f",
   "metadata": {},
   "source": [
    "### Task 2.3a: Convert a list of lists to a list of dictionaries"
   ]
  },
  {
   "cell_type": "markdown",
   "id": "2346c48a",
   "metadata": {},
   "source": [
    "#### Now, let's go back to `small_movies`. Your `csv_data` looks like this (verify this by displaying appropriate variable's value):\n",
    "\n",
    "```python\n",
    "[['tt3104988',\n",
    "  '2018',\n",
    "  'Comedy, Drama, Romance',\n",
    "  '120',\n",
    "  'nm0160840',\n",
    "  'nm2090422, nm6525901, nm0000706, nm2110418, nm0523734',\n",
    "  '6.9'],\n",
    " ['tt4846340',\n",
    "  '2016',\n",
    "  'Biography, Drama, History',\n",
    "  '127',\n",
    "  'nm0577647',\n",
    "  'nm0378245, nm0818055, nm1847117',\n",
    "  '7.8']]\n",
    "```"
   ]
  },
  {
   "cell_type": "code",
   "execution_count": null,
   "id": "83c55b0d",
   "metadata": {},
   "outputs": [],
   "source": []
  },
  {
   "cell_type": "markdown",
   "id": "08e69132-fafa-42c6-b143-ac3e8490ac8c",
   "metadata": {},
   "source": [
    "#### It's a list of lists without its header. For a better understanding, let's convert it to a list of dictionaries. The dictionary should look like:\n",
    "\n",
    "```python\n",
    "[{'title': 'tt3104988',\n",
    "  'year': '2018',\n",
    "  'genres': 'Comedy, Drama, Romance',\n",
    "  'duration': '120',\n",
    "  'directors': 'nm0160840',\n",
    "  'actors': 'nm2090422, nm6525901, nm0000706, nm2110418, nm0523734',\n",
    "  'rating': '6.9'},\n",
    " {'title': 'tt4846340',\n",
    "  'year': '2016',\n",
    "  'genres': 'Biography, Drama, History',\n",
    "  'duration': '127',\n",
    "  'directors': 'nm0577647',\n",
    "  'actors': 'nm0378245, nm0818055, nm1847117',\n",
    "  'rating': '7.8'}]\n",
    "```"
   ]
  },
  {
   "cell_type": "code",
   "execution_count": null,
   "id": "3ab44d52-03a4-4df3-b58a-3b828ecfaa94",
   "metadata": {},
   "outputs": [],
   "source": [
    "# TODO: convert your list of lists data structure into a list of dictionaries data structure\n",
    "# As you solve individual steps, keep using print function calls to verify your intermediate outputs\n",
    "\n",
    "# Hint: If you don't know where to start, please review \n",
    "# \"Nesting part 2: Tables\" from Dictionaries 2 (Mar 09) lecture."
   ]
  },
  {
   "cell_type": "markdown",
   "id": "2c551174",
   "metadata": {},
   "source": [
    "### Check: does your raw_movies_list look exactly like the list of dictionaries in the cell above?  If you are not sure, ask the TA to check. "
   ]
  },
  {
   "cell_type": "code",
   "execution_count": null,
   "id": "c6df20bc-6867-4d17-a4b6-8d84c24838cb",
   "metadata": {},
   "outputs": [],
   "source": [
    "# What is the title ID of the fist movie in your list?\n",
    "# Test your implementation here:\n",
    "\n",
    "print(\"Expected: tt3104988\\t Actual:\", ???)"
   ]
  },
  {
   "cell_type": "code",
   "execution_count": null,
   "id": "73347ed0-77e9-4db2-9ef3-241f604e0324",
   "metadata": {},
   "outputs": [],
   "source": [
    "# What is the duration of the second movie in your list?\n",
    "# Test your implementation here:\n",
    "\n",
    "print(\"Expected: 127\\t Actual:\", ???)"
   ]
  },
  {
   "cell_type": "code",
   "execution_count": null,
   "id": "79fef008-9cbd-45f0-a7b5-a5ba14dcf079",
   "metadata": {},
   "outputs": [],
   "source": [
    "# What is the genres of the second movie in your list?\n",
    "# Test your implementation here:\n",
    "\n",
    "print(\"Expected: Biography, Drama, History\\t Actual:\", ???)"
   ]
  },
  {
   "cell_type": "markdown",
   "id": "335253d5",
   "metadata": {},
   "source": [
    "### Task 2.3b: Convert the int and float values to the correct type"
   ]
  },
  {
   "cell_type": "markdown",
   "id": "6ff24d4d-c705-4fcd-b81e-d9f313d5ca0c",
   "metadata": {},
   "source": [
    "Did you notice that currently all the values in the dictionaries are strings? We should convert them into correct types. In particular, the year and duration should be an `int` and the rating should be a `float`. \n",
    "\n",
    "After converting the `int` and `float` values to the right types, the list of dictionaries should look like: \n",
    "\n",
    "```python\n",
    "[{'title': 'tt3104988',\n",
    "  'year': 2018,\n",
    "  'genres': 'Comedy, Drama, Romance',\n",
    "  'duration': 120,\n",
    "  'directors': 'nm0160840',\n",
    "  'actors': 'nm2090422, nm6525901, nm0000706, nm2110418, nm0523734',\n",
    "  'rating': 6.9},\n",
    " {'title': 'tt4846340',\n",
    "  'year': 2016,\n",
    "  'genres': 'Biography, Drama, History',\n",
    "  'duration': 127,\n",
    "  'directors': 'nm0577647',\n",
    "  'actors': 'nm0378245, nm0818055, nm1847117',\n",
    "  'rating': 7.8}]\n",
    "```"
   ]
  },
  {
   "cell_type": "code",
   "execution_count": null,
   "id": "e28df34e-8752-460e-9001-449c9dfd95db",
   "metadata": {},
   "outputs": [],
   "source": [
    "# TODO: copy/paste the code in Task 2.3a and update it to handle type conversion\n",
    "# Recall that you have been handling similar type conversions as part of cell function definition for p6 and p7\n",
    "# Use similar conditional statements to handle these type conversions.\n"
   ]
  },
  {
   "cell_type": "code",
   "execution_count": null,
   "id": "fb5152d6",
   "metadata": {},
   "outputs": [],
   "source": [
    "# What is the type of duration's value for the second movie in your list?\n",
    "print(\"Expected: <class 'int'>\\t Actual:\", ???)"
   ]
  },
  {
   "cell_type": "code",
   "execution_count": null,
   "id": "3cb3757e",
   "metadata": {},
   "outputs": [],
   "source": [
    "# What is the type of rating's value for the first movie in your list?\n",
    "print(\"Expected: <class 'float'>\\t Actual:\", ???)"
   ]
  },
  {
   "cell_type": "markdown",
   "id": "9dcb11ee",
   "metadata": {},
   "source": [
    "### Task 2.3c: Convert the genres, actors, and directors to list of strings"
   ]
  },
  {
   "cell_type": "markdown",
   "id": "e41b4f76",
   "metadata": {},
   "source": [
    "We are now going to convert the value corresponding to the keys `genres`, `actors`, and `directors` to a list of strings. That is below the final representation of this list of dictionaries data structure:\n",
    "\n",
    "```python\n",
    "   {\n",
    "        'title': <title-id>,\n",
    "        'year': <the year as an integer>,\n",
    "        'genres': [<genre1>, <genre2>, ...],\n",
    "        'duration': <the duration as an integer>,\n",
    "        'directors': [<director-id1>, <director-id2>, ...],\n",
    "        'actors': [<actor-id1>, <actor-id2>, ....],\n",
    "        'rating': <the rating as a float>\n",
    "    }\n",
    "```\n",
    "\n",
    "After converting the strings to list of strings, the list of dictionaries should look like: \n",
    "\n",
    "```python\n",
    "[{'title': 'tt3104988',\n",
    "  'year': 2018,\n",
    "  'genres': ['Comedy', 'Drama', 'Romance'],\n",
    "  'duration': 120,\n",
    "  'directors': ['nm0160840'],\n",
    "  'actors': ['nm2090422', 'nm6525901', 'nm0000706', 'nm2110418', 'nm0523734'],\n",
    "  'rating': 6.9},\n",
    " {'title': 'tt4846340',\n",
    "  'year': 2016,\n",
    "  'genres': ['Biography', 'Drama', 'History'],\n",
    "  'duration': 127,\n",
    "  'directors': ['nm0577647'],\n",
    "  'actors': ['nm0378245', 'nm0818055', 'nm1847117'],\n",
    "  'rating': 7.8}]\n",
    "```"
   ]
  },
  {
   "cell_type": "code",
   "execution_count": null,
   "id": "038fd5f4",
   "metadata": {},
   "outputs": [],
   "source": [
    "# TODO: copy/paste the code in Task 2.3b and update it to handle string to list of strings conversion\n",
    "\n",
    "# Hint: Recall that there is a string method that enables you to perform this. \n",
    "# If you don't know where to start, please review Lists (Feb 28) lecture examples or the slide deck\n",
    "\n",
    "# Notice that in the above output, first movie dict directors has a list, despite that movie having \n",
    "# a single director. Immaterial of whether there is one value or multiple values, you should still have the \n",
    "# type as a list.\n"
   ]
  },
  {
   "cell_type": "code",
   "execution_count": null,
   "id": "76bd9dca-4638-434b-b267-c46f74668d79",
   "metadata": {},
   "outputs": [],
   "source": [
    "# What is the genres of the second movie in your list?\n",
    "# Test your implementation here:\n",
    "\n",
    "print(\"Expected: ['Biography', 'Drama', 'History']\\t Actual:\", ???)"
   ]
  },
  {
   "cell_type": "code",
   "execution_count": null,
   "id": "ed0d3626-166c-478b-b756-159827e6ecea",
   "metadata": {},
   "outputs": [],
   "source": [
    "# How many actors do we have in the second movie?\n",
    "# Test your implementation here:\n",
    "\n",
    "print(\"Expected: 3\\t Actual:\", ???)"
   ]
  },
  {
   "cell_type": "markdown",
   "id": "b79a0a6f-bb26-4a80-aa91-d0a8b92262aa",
   "metadata": {},
   "source": [
    "# Segment 3: Mapping IDs to Actual Names"
   ]
  },
  {
   "cell_type": "markdown",
   "id": "06dbb5dd-684f-48a1-9476-3e2da35b7594",
   "metadata": {},
   "source": [
    "You may have noticed that title, directors, and actors are represented by IDs rather than actual names. To make our data more intuitive, we next need to convert these IDs to actual names. The output of this list should be a list of dictionaries in the following format:\n",
    "\n",
    "```python\n",
    "{\n",
    "    'title': \"the movie name\",\n",
    "    'year': <the year as an integer>,\n",
    "    'genres': [\"genre1\", \"genre2\", ...],\n",
    "    'duration': <the duration as an integer>,\n",
    "    'directors': [\"director-name1\", \"director-name2\", ...],\n",
    "    'actors': [\"actor-name1\", \"actor-name2\", ....],\n",
    "    'rating': <the rating as a float>\n",
    "}\n",
    "```"
   ]
  },
  {
   "cell_type": "markdown",
   "id": "f963edb9-beb2-47de-bb8c-ed5cb36e562f",
   "metadata": {},
   "source": [
    "### Task 3.1: Find the Actual Names"
   ]
  },
  {
   "cell_type": "code",
   "execution_count": null,
   "id": "2ff25dcd-9f8d-4786-9259-756a09ac4ff6",
   "metadata": {},
   "outputs": [],
   "source": [
    "# Before convert your dictionary, let's use `mapping_dict` to find the actual title of the first movie.\n",
    "# We do this for you:\n",
    "\n",
    "# TODO: replace the ??? with the variable name from Task 2.3c (that is the variable storing the list of \n",
    "# dictionaries data structure)\n",
    "print(\"Expected: Crazy Rich Asians\\t Actual:\", mapping_dict[???[0][\"title\"]])"
   ]
  },
  {
   "cell_type": "code",
   "execution_count": null,
   "id": "c897f2e2-7366-4272-8527-297fb82c09bf",
   "metadata": {},
   "outputs": [],
   "source": [
    "# Before convert your dictionary, let's use `mapping_dict` to find the actual names of directors in two movies.\n",
    "\n",
    "# TODO: iterate over your list of dict data structure\n",
    "    # TODO: for each movie dict, iterate over the directors\n",
    "        # take each director ID and lookup the value from the mapping_dict dict\n",
    "        # print each director name"
   ]
  },
  {
   "cell_type": "code",
   "execution_count": null,
   "id": "1a6d7253-b6ac-4a38-a895-7cc3b864f581",
   "metadata": {},
   "outputs": [],
   "source": [
    "# Before convert your dictionary, let's use `mapping_dict` to list the actual names of actors in two movies.\n",
    "\n",
    "# Similar TODOs like the previous cell."
   ]
  },
  {
   "cell_type": "markdown",
   "id": "a7b1831b-61fc-49bf-bc69-88698ec790c9",
   "metadata": {},
   "source": [
    "### Task 3.2: Convert to Actual Names\n",
    "\n",
    "Use your `mapping_dict` and `???` (list of dictionaries variable from task 2.3c) to finish this task\n",
    "There are three columns (title, directors, and actors) which need to be converted.\n",
    "\n",
    "It is easier to replace title ID with name.\n",
    "It is slightly more complex for you to replace actors / directors ID list with their names. \n",
    "You will have to create a new list, by iterating over the ID list (see task 3.1 second and third cell)."
   ]
  },
  {
   "cell_type": "code",
   "execution_count": null,
   "id": "32b22cae-aec9-4169-b33d-4f43b8e34f8a",
   "metadata": {},
   "outputs": [],
   "source": [
    "# Hint: there is a way for you to use the same code for converting actors and directors IDs to names. \n",
    "# This is very similar to type conversion handling in cell function definition. \n",
    "\n",
    "# It is very important that you incrementally test your implementation, rather than type the whole solution\n"
   ]
  },
  {
   "cell_type": "markdown",
   "id": "0270d2b0",
   "metadata": {},
   "source": [
    "Expected output:\n",
    "```python\n",
    "[{'title': 'Crazy Rich Asians',\n",
    "  'year': 2018,\n",
    "  'genres': ['Comedy', 'Drama', 'Romance'],\n",
    "  'duration': 120,\n",
    "  'directors': ['Jon M. Chu'],\n",
    "  'actors': ['Constance Wu',\n",
    "   'Henry Golding',\n",
    "   'Michelle Yeoh',\n",
    "   'Gemma Chan',\n",
    "   'Lisa Lu'],\n",
    "  'rating': 6.9},\n",
    " {'title': 'Hidden Figures',\n",
    "  'year': 2016,\n",
    "  'genres': ['Biography', 'Drama', 'History'],\n",
    "  'duration': 127,\n",
    "  'directors': ['Theodore Melfi'],\n",
    "  'actors': ['Taraji P. Henson', 'Octavia Spencer', 'Janelle Monáe'],\n",
    "  'rating': 7.8}]\n",
    "```"
   ]
  },
  {
   "cell_type": "code",
   "execution_count": null,
   "id": "519afdf4-f0b2-4a8c-9236-e676db64c294",
   "metadata": {},
   "outputs": [],
   "source": [
    "# What is the movie title of the first movie in your list?\n",
    "# Test your implementation here:\n",
    "\n",
    "print(\"Expected: Crazy Rich Asians\\t Actual:\", ???)"
   ]
  },
  {
   "cell_type": "code",
   "execution_count": null,
   "id": "a0215cac-c9d2-4e28-bd4b-e2cbd222f2ce",
   "metadata": {},
   "outputs": [],
   "source": [
    "# Who is the director of the second movie in your list?\n",
    "# Test your implementation here:\n",
    "\n",
    "print(\"Expected: ['Theodore Melfi']\\t Actual:\", ???)"
   ]
  }
 ],
 "metadata": {
  "kernelspec": {
   "display_name": "Python 3 (ipykernel)",
   "language": "python",
   "name": "python3"
  },
  "language_info": {
   "codemirror_mode": {
    "name": "ipython",
    "version": 3
   },
   "file_extension": ".py",
   "mimetype": "text/x-python",
   "name": "python",
   "nbconvert_exporter": "python",
   "pygments_lexer": "ipython3",
   "version": "3.9.7"
  }
 },
 "nbformat": 4,
 "nbformat_minor": 5
}
