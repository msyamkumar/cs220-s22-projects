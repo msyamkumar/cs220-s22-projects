{
 "cells": [
  {
   "cell_type": "markdown",
   "id": "bf8001ac",
   "metadata": {},
   "source": [
    "# Lab-P6: Real-world Datasets (Airbnb)"
   ]
  },
  {
   "cell_type": "code",
   "execution_count": null,
   "id": "abe012ad",
   "metadata": {},
   "outputs": [],
   "source": [
    "## Please make sure \"airbnb.csv\" is in your \"lab6\" folder.\n",
    "import csv"
   ]
  },
  {
   "cell_type": "markdown",
   "id": "6926bf1f",
   "metadata": {},
   "source": [
    "## Segment 2: Loading Data from CSVs"
   ]
  },
  {
   "cell_type": "markdown",
   "id": "29301c84",
   "metadata": {},
   "source": [
    "### Task 2.1: Process the CSV file\n",
    "[Chapter 14](https://automatetheboringstuff.com/chapter14/) of Automate the Boring Stuff introduces CSV files and provides a code snippet we can reuse. We will use the same code snippet for p6."
   ]
  },
  {
   "cell_type": "code",
   "execution_count": null,
   "id": "289f8744",
   "metadata": {},
   "outputs": [],
   "source": [
    "def process_csv(filename):\n",
    "    example_file = open(filename, encoding=\"utf-8\")\n",
    "    example_reader = csv.reader(example_file)\n",
    "    example_data = list(example_reader)\n",
    "    example_file.close()\n",
    "    return example_data"
   ]
  },
  {
   "cell_type": "code",
   "execution_count": null,
   "id": "1ed0fa25",
   "metadata": {},
   "outputs": [],
   "source": [
    "# Use process_csv to pull out the header and data rows\n",
    "csv_rows = process_csv(\"airbnb.csv\")\n",
    "\n",
    "# Use indexing to extract the first inner list\n",
    "csv_header = csv_rows[???] # A list of the column headers\n",
    "\n",
    "# Use slicing to slice all the inner lists, except the first one\n",
    "csv_data = csv_rows[???1] # The entire CSV data set besides the headers"
   ]
  },
  {
   "cell_type": "markdown",
   "id": "110dcf74",
   "metadata": {},
   "source": [
    "### About the dataset\n",
    "The `airbnb.csv` file has data about nearly 50,000 listings on Airbnb from New York City, NY from the year 2019. Each row in the file contains data about a single listing. The columns contain the following data about each listing (along with the correct data type to represent it):"
   ]
  },
  {
   "cell_type": "markdown",
   "id": "3933871e",
   "metadata": {},
   "source": [
    "1. `room_id` - The ID of the room listing (str)\n",
    "2. `name` - The name of the room listing (str)\n",
    "3. `host_id` - The ID of the host for the room listing (str)\n",
    "4. `host_name` - The name of the host for the room listing (str)\n",
    "5. `neighborhood_group` - The group of neighborhoods the room is in (str)\n",
    "6. `neighborhood` - The neighborhood the room is in (str)\n",
    "7. `latitude` - The latitude where the room is located (float)\n",
    "8. `longitude` - The longitude where the room is located (float)\n",
    "9. `room_type` - The type of room (str)\n",
    "10. `price` - The price per night for the room in US dollars (int)\n",
    "11. `minimum_nights` - The minimum amount of nights the room can be booked for (int)\n",
    "12. `number_of_reviews` - The total number of reviews the room has received (int)\n",
    "13. `last_review` - The date of the most recent review in the form yyyy-mm-dd (str)\n",
    "14. `reviews_per_month` - How many reviews per month the room receives (float)\n",
    "15. `calculated_host_listings_count` - How many listings the host of the room has (int)\n",
    "16. `availability_365` - How many days per year the listing is available for (int)\n",
    "\n",
    "<b>Note:</b> Keep in mind while writing your project, some entries may be missing data for specific columns. Sadly, data in real life is often messy, and in p6, we will have to deal with missing data."
   ]
  },
  {
   "cell_type": "markdown",
   "id": "5a9fde4d",
   "metadata": {},
   "source": [
    "### Task 2.2: Access the contents of the dataset\n",
    "Index the data to extract the correct answers for the questions listed below. Some have been done for you. To understand the results better, locate the values in the airbnb.csv file."
   ]
  },
  {
   "cell_type": "code",
   "execution_count": null,
   "id": "1900e2b3",
   "metadata": {},
   "outputs": [],
   "source": [
    "# Question: What are the names of the columns in the dataset?\n",
    "csv_header # we did this one for you"
   ]
  },
  {
   "cell_type": "code",
   "execution_count": null,
   "id": "cb71d646",
   "metadata": {},
   "outputs": [],
   "source": [
    "# Question: How many rows of data (excluding header) are present in the dataset?\n",
    "len(csv_data) # we did this one for you"
   ]
  },
  {
   "cell_type": "markdown",
   "id": "b14e05b4",
   "metadata": {},
   "source": [
    "Open airbnb.csv, to verify your answers."
   ]
  },
  {
   "cell_type": "code",
   "execution_count": null,
   "id": "7c7e1323",
   "metadata": {},
   "outputs": [],
   "source": [
    "# Question: What values are present in the first row in the dataset (use indexing)?\n"
   ]
  },
  {
   "cell_type": "code",
   "execution_count": null,
   "id": "2c31a468",
   "metadata": {},
   "outputs": [],
   "source": [
    "# Question: Display the first five rows of data in the dataset (using slicing).\n"
   ]
  },
  {
   "cell_type": "markdown",
   "id": "3b0b0bfc",
   "metadata": {},
   "source": [
    "To get a data in a cell of the csv, we need two things:\n",
    "  1. row index\n",
    "  2. column index\n",
    "    \n",
    "Indexing syntax will be `csv_data_variable[row_idx][col_idx]`"
   ]
  },
  {
   "cell_type": "code",
   "execution_count": null,
   "id": "31a6cbd0",
   "metadata": {},
   "outputs": [],
   "source": [
    "# Question: What is the host name of the first airbnb listing\n",
    "# TODO: determine the row index and column index\n",
    "required_val = csv_data[???][???]\n",
    "\n",
    "print(\"Expected: John Actual:\", required_val)"
   ]
  },
  {
   "cell_type": "markdown",
   "id": "b42507d0",
   "metadata": {},
   "source": [
    "#### `index` method:\n",
    "\n",
    "- applicable only to list type\n",
    "- enables us to lookup the index of a value inside a list\n",
    "- enables us to avoid hardcoding the index of the columns\n",
    "\n",
    "Syntax: `list_variable.index(column_name)`"
   ]
  },
  {
   "cell_type": "code",
   "execution_count": null,
   "id": "dfe9fded",
   "metadata": {},
   "outputs": [],
   "source": [
    "# Question: What is the index of the column \"neighborhood_group\" ?\n",
    "group_index = csv_header.index(???)\n",
    "print(\"Expected: 4. Actual:\", group_index)"
   ]
  },
  {
   "cell_type": "code",
   "execution_count": null,
   "id": "90304fe1",
   "metadata": {},
   "outputs": [],
   "source": [
    "# Question: What is the first value in the \"Neighborhood Group\" column?\n",
    "\n",
    "# Use the variable you declared in the previous cell \n",
    "# to get the first value in the column \"Neighborhood Group\"\n",
    "group_value = csv_data[0][???]\n",
    "print(\"Expected: Brooklyn. Actual:\", group_value)"
   ]
  },
  {
   "cell_type": "markdown",
   "id": "913f15cc",
   "metadata": {},
   "source": [
    "### Task 2.3: Build a helper function for quick data access\n",
    "You'll use the following function as the basis for accessing data in p6, but first you need to fill in some missing pieces:"
   ]
  },
  {
   "cell_type": "code",
   "execution_count": null,
   "id": "089d39bc",
   "metadata": {},
   "outputs": [],
   "source": [
    "def cell(row_idx, col_name):\n",
    "    \"\"\"\n",
    "    Returns the data value (cell) corresponding to the row index and \n",
    "    the column name of a CSV file.\n",
    "    \"\"\"\n",
    "    col_idx = csv_header.index(???)\n",
    "    val = csv_data[???][col_idx]\n",
    "    if val == \"\": # missing value\n",
    "        return None\n",
    "    return val"
   ]
  },
  {
   "cell_type": "markdown",
   "id": "10998f58",
   "metadata": {},
   "source": [
    "Is your implementation correct? Test it with the following:"
   ]
  },
  {
   "cell_type": "code",
   "execution_count": null,
   "id": "fbef32a2",
   "metadata": {},
   "outputs": [],
   "source": [
    "print(\"Expected: Kensington\\t Actual:\", cell(0, \"neighborhood\"))"
   ]
  },
  {
   "cell_type": "code",
   "execution_count": null,
   "id": "f7a1191c",
   "metadata": {},
   "outputs": [],
   "source": [
    "print(\"Expected: Skylit Midtown Castle\\t Actual:\", cell(1, \"name\"))"
   ]
  },
  {
   "cell_type": "markdown",
   "id": "bac94519",
   "metadata": {},
   "source": [
    "For the cell below, complete the function call and test your result."
   ]
  },
  {
   "cell_type": "code",
   "execution_count": null,
   "id": "dad5ef16",
   "metadata": {},
   "outputs": [],
   "source": [
    "# Use the cell function to get the price of the 3rd room in the dataset\n",
    "required_price = cell(???, ???)\n",
    "print(\"Expected: 150\\t Actual:\", required_price)"
   ]
  },
  {
   "cell_type": "markdown",
   "id": "1385d415",
   "metadata": {},
   "source": [
    "**Important**: Raise your hand and confirm your implementation with a TA. We'll use the `cell` function for all remaining tasks in this lab and throughout the project.\n",
    "\n",
    "## Segment 3: Sorting Data\n",
    "There are two major ways to sort lists in Python: (1) with the `sorted` function and (2) with the `.sort` method. For each method, let's examine (a) how it modifies existing structures, and (b) what new values it returns, if any.\n",
    "\n",
    "The default sorting order is ascending. You can change that to descending, by passing keyword argument `reverse = True`. Same parameter / argument pair applicable for both `sort` method and `sorted` function.\n",
    "\n",
    "### Task 3.1: Sort lists using `.sort()`\n",
    "Use the `cell` function to fetch the neighborhood names of the first three rows in the dataset and sort them using `.sort()`"
   ]
  },
  {
   "cell_type": "code",
   "execution_count": null,
   "id": "292835fc",
   "metadata": {},
   "outputs": [],
   "source": [
    "# Fetch the neighborhood names for the first three rows in the dataset\n",
    "neighborhood1 = cell(1,\"neighborhood\")\n",
    "neighborhood2 = cell(???, ???)\n",
    "neighborhood3 = cell(???, ???)\n",
    "\n",
    "#Initialize a list with the three neighborhood names as elements\n",
    "neighborhoods = ???\n",
    "\n",
    "print(\"Expected list before sorting: ['Kensington', 'Midtown', 'Harlem']\", neighborhoods)\n",
    "print(\"Actual list before sorting:\", neighborhoods)\n",
    "\n",
    "#Sort the neighborhoods\n",
    "result = neighborhoods.sort()\n",
    "\n",
    "print(\"List after sorting:\", neighborhoods)\n",
    "print(\"Returned value:\", result)\n",
    "\n",
    "#Descending order sort\n",
    "neighborhoods.sort(reverse = True)\n",
    "print(\"Reverse order sorting:\", neighborhoods)"
   ]
  },
  {
   "cell_type": "markdown",
   "id": "026f3231",
   "metadata": {},
   "source": [
    "As you can see, the original list has been updated while no value has been returned by the `.sort` method. What does till you about what `.sort` does to existing structures? What does it return?\n",
    "\n",
    "### Task 3.2: Sort lists using `sorted()`\n",
    "\n",
    "Now, use the sorted function to complete the same task as above. That is, fetch the names of the neighborhoods in the first three rows of the dataset. This time, use the `.append()` function and a `for` loop to add entries into the list."
   ]
  },
  {
   "cell_type": "code",
   "execution_count": null,
   "id": "ada5e555",
   "metadata": {},
   "outputs": [],
   "source": [
    "neighborhoods = list() # this creates an empty list\n",
    "for row_idx in range(???): # Iterate over the indices of the first 3 rows in the dataset\n",
    "    neighborhoods.append(cell(???, ???))\n",
    "\n",
    "print(\"Original list before sorting:\", neighborhoods)\n",
    "\n",
    "#Sort the neighborhoods and assign the sorted list to a new variable.\n",
    "sorted_neighborhoods = sorted(???)\n",
    "\n",
    "print(\"Original list after sorting:\",neighborhoods)\n",
    "print(\"Returned list:\", sorted_neighborhoods)\n",
    "\n",
    "#Descending order sort\n",
    "reverse_sorted_neighborhoods = sorted(neighborhoods, reverse = True)\n",
    "print(\"Reverse order sorting:\", reverse_sorted_neighborhoods)"
   ]
  },
  {
   "cell_type": "markdown",
   "id": "2c064360",
   "metadata": {},
   "source": [
    "Discuss the difference between sorted() function and sort() method with your lab partner or TA / PM."
   ]
  },
  {
   "cell_type": "markdown",
   "id": "695cbf47",
   "metadata": {},
   "source": [
    "### Task 3.3: Sort characters in a string\n",
    "\n",
    "We'll use the `sorted` function to sort the characters in a string."
   ]
  },
  {
   "cell_type": "code",
   "execution_count": null,
   "id": "19751b4e",
   "metadata": {},
   "outputs": [],
   "source": [
    "s1 = \"study\"\n",
    "sorted_s1 = sorted(s1)\n",
    "print(sorted_s1)\n",
    "\n",
    "s2 = \"dusty\"\n",
    "# sort s2 and print\n",
    "sorted_s2 = ???\n",
    "print(sorted_s2)\n",
    "\n",
    "# compare s1 and s2 using == operator\n",
    "\n",
    "# compare sorted_s1 and sorted_s2 using == operator\n",
    "\n",
    "# change s1 intialization to \"cheap\" and re-run this cell\n",
    "\n",
    "# now change s2 initialization to \"peach\" and re-run this cell"
   ]
  },
  {
   "cell_type": "markdown",
   "id": "9cb5ea57",
   "metadata": {},
   "source": [
    "Lists have a `sort` method because lists are mutable. \n",
    "\n",
    "Why isn't there a `sort` method for strings? Discuss with your lab partner or TA / PM."
   ]
  },
  {
   "cell_type": "markdown",
   "id": "15e4e2df",
   "metadata": {},
   "source": [
    "### Task 3.4: Sort to find the median"
   ]
  },
  {
   "cell_type": "markdown",
   "id": "399c1210",
   "metadata": {},
   "source": [
    "Now, let's try using sorting to solve a common problem - that of finding the median of a given distribution of values. Recall that the median is the middle number in a sorted (ascending or descending) list of numbers.   \n",
    "  \n",
    "In a sorted list, if the list has an odd number of elements, the median is the middle number:  \n",
    "e.g. [10, 20, 30, 40, 50] --> median is 30\n",
    "\n",
    "If a sorted list has an even number of elements, the median is the average of the two middle numbers:  \n",
    "e.g. [10, 20, 30, 40] --> median is 25"
   ]
  },
  {
   "cell_type": "code",
   "execution_count": null,
   "id": "3a6977d7",
   "metadata": {},
   "outputs": [],
   "source": [
    "def median(some_list):\n",
    "    \"\"\"\n",
    "    Returns median of a list passed as arugment\n",
    "    \"\"\"\n",
    "    \n",
    "    # STEP 1: sort the list\n",
    "    \n",
    "    # STEP 2: determine the length of the list\n",
    "    \n",
    "    # STEP 3: determine whether length of the list is odd\n",
    "    if ???:\n",
    "        # return item in the middle using indexing\n",
    "    else:\n",
    "        first_middle = ??? # use appropriate indexing\n",
    "        second_middle = ??? # use appropriate indexing\n",
    "        median = (firstMiddle + secondMiddle) / 2\n",
    "        return median"
   ]
  },
  {
   "cell_type": "markdown",
   "id": "cb746b22",
   "metadata": {},
   "source": [
    "Now, let's find the median price of all rooms in the neighborhood *Harlem*."
   ]
  },
  {
   "cell_type": "code",
   "execution_count": null,
   "id": "c35846bd",
   "metadata": {},
   "outputs": [],
   "source": [
    "# Initialize an empty list to keep track of prices in the Harlem neighborhood\n",
    "harlem_prices = ??? \n",
    "\n",
    "# Iterate over all row indices. Recall that range built-in function \n",
    "# enables you to iterate over indices. You need to use len as well.\n",
    "\n",
    "# Use cell function to extract neighborhood column value\n",
    "\n",
    "# Check if neighborhood is Harlem\n",
    "\n",
    "# If so, use cell function to extract price column value.\n",
    "# Use append method to append the current row's price into harlem_prices list \n",
    "\n",
    "\n",
    "# Let's invoke the median function.\n",
    "harlem_median_price = median(harlem_price)"
   ]
  },
  {
   "cell_type": "markdown",
   "id": "77632d49",
   "metadata": {},
   "source": [
    "**Troubleshooting your function:**\n",
    "\n",
    "Beware of type errors.\n",
    "\n",
    "We expect the price to be an `int` value, but what type does the `cell` function actually return? Use the `type` function to find out. Think about how to solve this and test your result below."
   ]
  },
  {
   "cell_type": "code",
   "execution_count": null,
   "id": "a16e2bc6",
   "metadata": {},
   "outputs": [],
   "source": [
    "# Test your code below\n",
    "print(\"Expected result: 89.0 Actual result\", harlem_median_price)"
   ]
  },
  {
   "cell_type": "markdown",
   "id": "f0b05c5f",
   "metadata": {},
   "source": [
    "## Segment 4: Sets\n",
    "In class, we learned about the Python `list` sequence. Another simpler structure you'll sometimes find useful is the `set`. A set is NOT a sequence because it does not keep all the values in any particular order. \n",
    "\n",
    "### Task 4.1: Create a set\n",
    "You can create sets the same way as lists, just replacing the square brackets with curly braces. In the cell below, create a set with the same elements as the example list provided."
   ]
  },
  {
   "cell_type": "code",
   "execution_count": null,
   "id": "01f0c7ef",
   "metadata": {},
   "outputs": [],
   "source": [
    "example_list = [\"Kensington\", \"Harlem\", \"Midtown\"]\n",
    "print(example_list)\n",
    "example_set = {???, ???, ???}\n",
    "print(example_set)"
   ]
  },
  {
   "cell_type": "markdown",
   "id": "25add0b1",
   "metadata": {},
   "source": [
    "### Task 4.2: Check if an element is present in a list or set"
   ]
  },
  {
   "cell_type": "markdown",
   "id": "654f9668",
   "metadata": {},
   "source": [
    "The `in` operator is used to check if an element is present in a list or set. Try it below:"
   ]
  },
  {
   "cell_type": "code",
   "execution_count": null,
   "id": "fb14206e",
   "metadata": {},
   "outputs": [],
   "source": [
    "\"Harlem\" in example_list"
   ]
  },
  {
   "cell_type": "markdown",
   "id": "3a972586",
   "metadata": {},
   "source": [
    "Now, check if the neighborhood \"Midtown\" is present in the set `example_set`"
   ]
  },
  {
   "cell_type": "code",
   "execution_count": null,
   "id": "7b4a75f3",
   "metadata": {},
   "outputs": [],
   "source": [
    "??? in ???"
   ]
  },
  {
   "cell_type": "markdown",
   "id": "3d558b07",
   "metadata": {},
   "source": [
    "### Task 4.3: Check the ordering of elements in a list or set"
   ]
  },
  {
   "cell_type": "markdown",
   "id": "4f05e011",
   "metadata": {},
   "source": [
    "Sets have no inherent ordering, so they don't support indexing. Try the code in the cells below."
   ]
  },
  {
   "cell_type": "code",
   "execution_count": null,
   "id": "bc45050e",
   "metadata": {},
   "outputs": [],
   "source": [
    "example_list[0]  # Works"
   ]
  },
  {
   "cell_type": "markdown",
   "id": "2f691b50",
   "metadata": {},
   "source": [
    "Now, try to index `example_set` (use index 1) and observe what happens. You should see a type error."
   ]
  },
  {
   "cell_type": "code",
   "execution_count": null,
   "id": "1151f0c8",
   "metadata": {},
   "outputs": [],
   "source": [
    "???[???]   # Crashes"
   ]
  },
  {
   "cell_type": "markdown",
   "id": "9d6cc933",
   "metadata": {},
   "source": [
    "The lack of order also matters for comparisons. Try evaluating this boolean expression:"
   ]
  },
  {
   "cell_type": "code",
   "execution_count": null,
   "id": "720cefac",
   "metadata": {},
   "outputs": [],
   "source": [
    "[\"Harlem\", \"Midtown\", \"Kensington\"] == [\"Kensington\", \"Harlem\", \"Midtown\"]"
   ]
  },
  {
   "cell_type": "markdown",
   "id": "2720ded3",
   "metadata": {},
   "source": [
    "And now try this:"
   ]
  },
  {
   "cell_type": "code",
   "execution_count": null,
   "id": "0b5a186a",
   "metadata": {},
   "outputs": [],
   "source": [
    "{\"Harlem\", \"Midtown\", \"Kensington\"} == {\"Kensington\", \"Harlem\", \"Midtown\"}"
   ]
  },
  {
   "cell_type": "markdown",
   "id": "98619260",
   "metadata": {},
   "source": [
    "### Task 4.4 Convert between lists and sets\n",
    "You can switch back and forth between lists and sets with ease. Let's try it. Create a list of all neighborhoods in the neighborhood_group *Brooklyn*."
   ]
  },
  {
   "cell_type": "code",
   "execution_count": null,
   "id": "96068c1d",
   "metadata": {},
   "outputs": [],
   "source": [
    "# initialize the list\n",
    "brooklyn_neighborhoods_list = list() \n",
    "\n",
    "# Iterate over the dataset to populate brooklyn_neighborhoods_list"
   ]
  },
  {
   "cell_type": "markdown",
   "id": "b93eb6ec",
   "metadata": {},
   "source": [
    "Now, convert the list to a set. Compare the the number of elements in the list and the set."
   ]
  },
  {
   "cell_type": "code",
   "execution_count": null,
   "id": "09aa8e71",
   "metadata": {},
   "outputs": [],
   "source": [
    "brooklyn_neighborhoods_set = set(???)\n",
    "print(len(???))\n",
    "print(len(???))"
   ]
  },
  {
   "cell_type": "markdown",
   "id": "afd5f72b",
   "metadata": {},
   "source": [
    "As you can see, the number of elements is vastly different! This is because a set is a collection of **unique** elements.\n",
    "\n",
    "Be careful! When going from a set to a list, Python has to choose how to order the previously unordered values. If you run the same code, there's no guarantee Python will always choose the same way to order the set values in the new list."
   ]
  },
  {
   "cell_type": "markdown",
   "id": "4d509c71",
   "metadata": {},
   "source": [
    "### Task 4.5 Remove Duplicates\n",
    "Let's use the uniqueness property of sets above to remove duplicates from a list by converting from a list to a set and back to a list again. Explore the resulting effect:"
   ]
  },
  {
   "cell_type": "code",
   "execution_count": null,
   "id": "9786714a",
   "metadata": {},
   "outputs": [],
   "source": [
    "# Try playing with different values here\n",
    "# Backslash enables us to split a long line of code into two lines\n",
    "list_1 = [\"Brooklyn\", \"Brooklyn\", \"Manhattan\", \"Midtown\", \\\n",
    "          \"Kensington\", \"Kensington\", \"Manhattan\"] \n",
    "list_2 = ??? # Convert list 1 to a set and back to a list\n",
    "print(list_2)"
   ]
  },
  {
   "cell_type": "markdown",
   "id": "484095e8",
   "metadata": {},
   "source": [
    "Now, remove the duplicates in the *brooklyn_neighborhoods_list* obtained previously. Return the unique values as a list."
   ]
  },
  {
   "cell_type": "code",
   "execution_count": null,
   "id": "682b1952",
   "metadata": {},
   "outputs": [],
   "source": [
    "unique_brooklyn_neighborhoods = ???"
   ]
  },
  {
   "cell_type": "code",
   "execution_count": null,
   "id": "25f5ad89",
   "metadata": {},
   "outputs": [],
   "source": [
    "print('Expected elements 47 Actual elements: ', len(unique_brooklyn_neighborhoods))"
   ]
  },
  {
   "cell_type": "code",
   "execution_count": null,
   "id": "0b342b9e",
   "metadata": {},
   "outputs": [],
   "source": [
    "print('Expected type <class \\'list\\'> Actual type: ', type(unique_brooklyn_neighborhoods))"
   ]
  },
  {
   "cell_type": "markdown",
   "id": "bb43d5c7",
   "metadata": {},
   "source": [
    "## Segment 5: Building a better helper function"
   ]
  },
  {
   "cell_type": "markdown",
   "id": "521dea1c",
   "metadata": {},
   "source": [
    "Finally, let's try to improve our helper function `cell`. As you have seen, we often have to manually convert the type returned by the function to suit our requirements. Instead, let's ensure the function returns the required type on its own. \n",
    "\n",
    "We will define a new function `cell_v2` to test our new implementation. Once the function is tested and works correctly, you can replace the original function with the new version.\n",
    "\n",
    "First, define `cell_v2` by completing and running the code below."
   ]
  },
  {
   "cell_type": "code",
   "execution_count": null,
   "id": "0b4c3d5b",
   "metadata": {},
   "outputs": [],
   "source": [
    "def cell_v2(row_idx, col_name):\n",
    "    col_idx = csv_header.index(???)\n",
    "    val = csv_data[???][col_idx]\n",
    "    if val == \"\":\n",
    "        return None\n",
    "    return val"
   ]
  },
  {
   "cell_type": "markdown",
   "id": "2c407360",
   "metadata": {},
   "source": [
    "### Task 5.1 Return the correct data type for price\n",
    "\n",
    "- Create a new conditional in the function definition for `cell_v2` that will help you perform appropriate type casting before you return the data value from the cell function"
   ]
  },
  {
   "cell_type": "code",
   "execution_count": null,
   "id": "16507c99",
   "metadata": {},
   "outputs": [],
   "source": [
    "print(\"Expected: <class 'int'>. Actual:\", type(cell_v2(4,'price')))"
   ]
  },
  {
   "cell_type": "code",
   "execution_count": null,
   "id": "e08ab1d9",
   "metadata": {},
   "outputs": [],
   "source": [
    "print(\"Expected: 80 . Actual:\", cell_v2(4,'price'))"
   ]
  },
  {
   "cell_type": "markdown",
   "id": "e30aec68",
   "metadata": {},
   "source": [
    "### Task 5.2 Return the correct data type for minimum_nights\n",
    "\n",
    "- Update the condition in the new conditional (in `cell_v2`) to handle minimum_nights column data conversion to `int`\n",
    "- Recall that in Python you cannot write conditions of the form `3 + 4 == 6 or 7`. The correct way to write the condition is `3 + 4 == 6 or 3 + 4 == 7`."
   ]
  },
  {
   "cell_type": "code",
   "execution_count": null,
   "id": "99999804",
   "metadata": {},
   "outputs": [],
   "source": [
    "print(\"Expected: <class 'int'>. Actual:\", type(cell_v2(4,'minimum_nights')))"
   ]
  },
  {
   "cell_type": "code",
   "execution_count": null,
   "id": "a278a36e",
   "metadata": {},
   "outputs": [],
   "source": [
    "print(\"Expected: 10. Actual:\", cell_v2(4,'minimum_nights'))"
   ]
  },
  {
   "cell_type": "markdown",
   "id": "a1c3bff6",
   "metadata": {},
   "source": [
    "### Task 5.3 Return the correct data types for all other `int` columns\n",
    "\n",
    "- Refer to the list in Task 2.1, for types associated with each column.\n",
    "- The if condition will become very long if you keep using `or` to separate each `int` column comparison operation.\n",
    "- It is easier to make a list of all the column names whose values require `int` conversion and use `in` operator to check if `col_name in ???`"
   ]
  },
  {
   "cell_type": "markdown",
   "id": "a744cea5",
   "metadata": {},
   "source": [
    "### Task 5.4 Return the correct data types for `float` columns\n",
    "\n",
    "You could choose to start the project and update the function definition as you go along.\n",
    "\n",
    "Update the definition of `cell` to match `cell_v2`. The function you use in the project must be called `cell`. Remember to always update the original definition - do not have two differing functions of the same name.\n",
    "\n",
    "**Note**: Using this advanced `cell` function is recommended but **optional** for the project. You may choose to use the basic version and convert the return types manually when needed."
   ]
  },
  {
   "cell_type": "markdown",
   "id": "cc0b4d7c",
   "metadata": {},
   "source": [
    "## Great work! You are now ready to start P6."
   ]
  }
 ],
 "metadata": {
  "kernelspec": {
   "display_name": "Python 3 (ipykernel)",
   "language": "python",
   "name": "python3"
  },
  "language_info": {
   "codemirror_mode": {
    "name": "ipython",
    "version": 3
   },
   "file_extension": ".py",
   "mimetype": "text/x-python",
   "name": "python",
   "nbconvert_exporter": "python",
   "pygments_lexer": "ipython3",
   "version": "3.8.12"
  }
 },
 "nbformat": 4,
 "nbformat_minor": 5
}
